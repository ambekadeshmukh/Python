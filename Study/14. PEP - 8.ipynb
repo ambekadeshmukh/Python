{
 "cells": [
  {
   "cell_type": "markdown",
   "metadata": {},
   "source": [
    "* [Reference](https://realpython.com/python-pep8/)\n",
    "* [Reference](https://www.datacamp.com/community/tutorials/pep8-tutorial-python-code?utm_source=adwords_ppc&utm_campaignid=1455363063&utm_adgroupid=65083631748&utm_device=c&utm_keyword=&utm_matchtype=b&utm_network=g&utm_adpostion=&utm_creative=332602034358&utm_targetid=aud-522010995285:dsa-429603003980&utm_loc_interest_ms=&utm_loc_physical_ms=9061918&gclid=Cj0KCQjwzbv7BRDIARIsAM-A6-06AD7PFjur_1VnyzYPwuUr7kuT6rGl4ga0ncYbMv0oUAhnPO39xakaAp5mEALw_wcB)\n",
    "\n",
    "PEP 8, sometimes spelled PEP8 or PEP-8, is a document that provides guidelines and best practices on how to write Python code. It was written in 2001 by Guido van Rossum, Barry Warsaw, and Nick Coghlan. The primary focus of PEP 8 is to improve the readability and consistency of Python code.\n",
    "\n",
    "PEP stands for Python Enhancement Proposal, and there are several of them. A PEP is a document that describes new features proposed for Python and documents aspects of Python, like design and style, for the community.\n",
    "\n",
    "# By the end of this tutorial, you’ll be able to:\n",
    "\n",
    "- Write Python code that conforms to PEP 8\n",
    "- Understand the reasoning behind the guidelines laid out in PEP 8\n",
    "- Set up your development environment so that you can start writing PEP 8 compliant Python code\n",
    "\n",
    "# Why We Need PEP 8\n",
    "\n",
    "- PEP 8 exists to improve the readability of Python code\n",
    "- But why is readability so important? Why is writing readable code one of the guiding principles of the Python language?\n",
    "\n",
    "- As Guido van Rossum said, “Code is read much more often than it is written.” \n",
    "- You may spend a few minutes, or a whole day, writing a piece of code to process user authentication\n",
    "- Once you’ve written it, you’re never going to write it again\n",
    "- But you’ll definitely have to read it again. That piece of code might remain part of a project you’re working on\n",
    "- Every time you go back to that file, you’ll have to remember what that code does and why you wrote it, so readability matters\n",
    "\n",
    "- If you’re new to Python, it can be difficult to remember what a piece of code does a few days, or weeks, after you wrote it\n",
    "- If you follow PEP 8, you can be sure that you’ve named your variables well\n",
    "- You’ll know that you’ve added enough whitespace so it’s easier to follow logical steps in your code\n",
    "- You’ll also have commented your code well. All this will mean your code is more readable and easier to come back to. As a beginner, following the rules of PEP 8 can make learning Python a much more pleasant task\n",
    "\n",
    "- Following PEP 8 is particularly important if you’re looking for a development job\n",
    "- Writing clear, readable code shows professionalism\n",
    "- It’ll tell an employer that you understand how to structure your code well\n",
    "\n",
    "# Naming Conventions\n",
    "\n",
    "- When you write Python code, you have to name a lot of things: variables, functions, classes, packages, and so on\n",
    "- Choosing sensible names will save you time and energy later\n",
    "- You’ll be able to figure out, from the name, what a certain variable, function, or class represents\n",
    "- You’ll also avoid using inappropriate names that might result in errors that are difficult to debug\n",
    "\n",
    "**Note: Never use l, O, or I single letter names as these can be mistaken for 1 and 0, depending on typeface:**\n",
    "\n",
    "# Naming Styles\n",
    "\n",
    "Function - Use a lowercase word or words. Separate words by underscores to improve readability \n",
    "Eg., function, my_function\n",
    "\n",
    "Variable - Use a lowercase single letter, word, or words. Separate words with underscores to improve readability\n",
    "Eg., x, var, my_variable\n",
    "\n",
    "Class - Start each word with a capital letter. Do not separate words with underscores. This style is called camel case\n",
    "Eg., Model, MyClass\n",
    "\n",
    "# How to Choose Names\n",
    "\n",
    "- Choosing names for your variables, functions, classes, and so forth can be challenging\n",
    "- You should put a fair amount of thought into your naming choices when writing code as it will make your code more readable\n",
    "- The best way to name your objects in Python is to use descriptive names to make it clear what the object represents\n",
    "\n",
    "- When naming variables, you may be tempted to choose simple, single-letter lowercase names, like x\n",
    "- But, unless you’re using x as the argument of a mathematical function, it’s not clear what x represents"
   ]
  },
  {
   "cell_type": "code",
   "execution_count": null,
   "metadata": {},
   "outputs": [],
   "source": [
    "# Not recommended\n",
    "x = 'John Smith'\n",
    "y, z = x.split()\n",
    "print(z, y, sep=', ')"
   ]
  },
  {
   "cell_type": "code",
   "execution_count": null,
   "metadata": {},
   "outputs": [],
   "source": [
    "# Recommended\n",
    "name = 'John Smith'\n",
    "first_name, last_name = name.split()\n",
    "print(last_name, first_name, sep=', ')"
   ]
  },
  {
   "cell_type": "markdown",
   "metadata": {},
   "source": [
    "- Similarly, to reduce the amount of typing you do, it can be tempting to use abbreviations when choosing names\n",
    "- In the example below, I have defined a function db() that takes a single argument x and doubles it:"
   ]
  },
  {
   "cell_type": "code",
   "execution_count": null,
   "metadata": {},
   "outputs": [],
   "source": [
    "# Not recommended\n",
    "def db(x):\n",
    "    return x * 2"
   ]
  },
  {
   "cell_type": "markdown",
   "metadata": {},
   "source": [
    "- At first glance, this could seem like a sensible choice\n",
    "- db() could easily be an abbreviation for double\n",
    "- But imagine coming back to this code in a few days\n",
    "- You may have forgotten what you were trying to achieve with this function, and that would make guessing how you abbreviated it difficult\n",
    "\n",
    "- The following example is much clearer\n",
    "- If you come back to this code a couple of days after writing it, you’ll still be able to read and understand the purpose of this function:"
   ]
  },
  {
   "cell_type": "code",
   "execution_count": null,
   "metadata": {},
   "outputs": [],
   "source": [
    "# Recommended\n",
    "def square(x):\n",
    "    return x * x"
   ]
  },
  {
   "cell_type": "markdown",
   "metadata": {},
   "source": [
    "The same philosophy applies to all other data types and objects in Python. Always try to use the most concise but descriptive names possible."
   ]
  },
  {
   "cell_type": "markdown",
   "metadata": {},
   "source": [
    "# Code Layout\n",
    "\n",
    "- How you lay out your code has a huge role in how readable it is\n",
    "- In this section, you’ll learn how to add vertical whitespace to improve the readability of your code\n",
    "- You’ll also learn how to handle the 79 character line limit recommended in PEP 8.\n",
    "\n",
    "# Blank Lines\n",
    "\n",
    "- Vertical whitespace, or blank lines, can greatly improve the readability of your code\n",
    "- Code that’s bunched up together can be overwhelming and hard to read\n",
    "- Similarly, too many blank lines in your code makes it look very sparse, and the reader might need to scroll more than necessary\n",
    "- Below are three key guidelines on how to use vertical whitespace\n",
    "\n",
    "### Surround top-level functions and classes with two blank lines\n",
    "\n",
    "- Top-level functions and classes should be fairly self-contained and handle separate functionality\n",
    "- It makes sense to put extra vertical space around them, so that it’s clear they are separate:"
   ]
  },
  {
   "cell_type": "code",
   "execution_count": null,
   "metadata": {},
   "outputs": [],
   "source": [
    "class MyFirstClass:\n",
    "    pass\n",
    "\n",
    "\n",
    "class MySecondClass:\n",
    "    pass\n",
    "\n",
    "\n",
    "def top_level_function():\n",
    "    return None"
   ]
  },
  {
   "cell_type": "markdown",
   "metadata": {},
   "source": [
    "### Surround method definitions inside classes with a single blank line\n",
    "Inside a class, functions are all related to one another. It’s good practice to leave only a single line between them:"
   ]
  },
  {
   "cell_type": "code",
   "execution_count": null,
   "metadata": {},
   "outputs": [],
   "source": [
    "class MyClass:\n",
    "    def first_method(self):\n",
    "        return None\n",
    "    \n",
    "    def second_method(self):\n",
    "        return None"
   ]
  },
  {
   "cell_type": "markdown",
   "metadata": {},
   "source": [
    "### Use blank lines sparingly inside functions to show clear steps\n",
    "\n",
    "- Sometimes, a complicated function has to complete several steps before the return statement\n",
    "- To help the reader understand the logic inside the function, it can be helpful to leave a blank line between each step\n",
    "- In the example below, there is a function to calculate the variance of a list\n",
    "- This is two-step problem, so I have indicated each step by leaving a blank line between them\n",
    "- There is also a blank line before the return statement\n",
    "- This helps the reader clearly see what’s returned:"
   ]
  },
  {
   "cell_type": "code",
   "execution_count": null,
   "metadata": {},
   "outputs": [],
   "source": [
    "def calculate_variance(number_list):\n",
    "    sum_list = 0\n",
    "    for number in number_list:\n",
    "        sum_list = sum_list + number\n",
    "    mean = sum_list / len(number_list)\n",
    "\n",
    "    sum_squares = 0\n",
    "    for number in number_list:\n",
    "        sum_squares = sum_squares + number**2\n",
    "    mean_squares = sum_squares / len(number_list)\n",
    "\n",
    "    return mean_squares - mean**2"
   ]
  },
  {
   "cell_type": "markdown",
   "metadata": {},
   "source": [
    "- If you use vertical whitespace carefully, it can greatly improved the readability of your code\n",
    "- It helps the reader visually understand how your code splits up into sections, and how those sections relate to one another\n",
    "\n",
    "# Maximum Line Length and Line Breaking\n",
    "\n",
    "- PEP 8 suggests lines should be limited to 79 characters\n",
    "- This is because it allows you to have multiple files open next to one another, while also avoiding line wrapping\n",
    "- Of course, keeping statements to 79 characters or less is not always possible\n",
    "- PEP 8 outlines ways to allow statements to run over several lines\n",
    "\n",
    "Python will assume line continuation if code is contained within parentheses, brackets, or braces:"
   ]
  },
  {
   "cell_type": "code",
   "execution_count": null,
   "metadata": {},
   "outputs": [],
   "source": [
    "def function(arg_one, arg_two,\n",
    "             arg_three, arg_four):\n",
    "    return arg_one"
   ]
  },
  {
   "cell_type": "markdown",
   "metadata": {},
   "source": [
    "If it is impossible to use implied continuation, then you can use backslashes to break lines instead:"
   ]
  },
  {
   "cell_type": "code",
   "execution_count": null,
   "metadata": {},
   "outputs": [],
   "source": [
    "# from mypkg import example1, \\\n",
    "#     example2, example3"
   ]
  },
  {
   "cell_type": "markdown",
   "metadata": {},
   "source": [
    "- If line breaking needs to occur around binary operators, like + and *, it should occur before the operator\n",
    "- Mathematicians agree that breaking before binary operators improves readability. Compare the following two examples\n",
    "\n",
    "Below is an example of breaking before a binary operator:"
   ]
  },
  {
   "cell_type": "code",
   "execution_count": null,
   "metadata": {},
   "outputs": [],
   "source": [
    "# Recommended\n",
    "# total = (first_variable\n",
    "#          + second_variable\n",
    "#          - third_variable)"
   ]
  },
  {
   "cell_type": "markdown",
   "metadata": {},
   "source": [
    "- You can immediately see which variable is being added or subtracted, as the operator is right next to the variable being operated on\n",
    "\n",
    "Now, let’s see an example of breaking after a binary operator:"
   ]
  },
  {
   "cell_type": "code",
   "execution_count": null,
   "metadata": {},
   "outputs": [],
   "source": [
    "# Not Recommended\n",
    "# total = (first_variable +\n",
    "#          second_variable -\n",
    "#          third_variable)"
   ]
  },
  {
   "cell_type": "markdown",
   "metadata": {},
   "source": [
    "- Here, it’s harder to see which variable is being added and which is subtracted\n",
    "- Breaking before binary operators produces more readable code, so PEP 8 encourages it\n",
    "- Code that consistently breaks after a binary operator is still PEP 8 compliant\n",
    "- However, you’re encouraged to break before a binary operator\n",
    "\n",
    "# Indentation\n",
    "\n",
    "- Indentation, or leading whitespace, is extremely important in Python\n",
    "- The indentation level of lines of code in Python determines how statements are grouped together\n",
    "\n",
    "Consider the following example:"
   ]
  },
  {
   "cell_type": "code",
   "execution_count": null,
   "metadata": {},
   "outputs": [],
   "source": [
    "x = 3\n",
    "if x > 5:\n",
    "    print('x is larger than 5')"
   ]
  },
  {
   "cell_type": "markdown",
   "metadata": {},
   "source": [
    "- The indented print statement lets Python know that it should only be executed if the if statement returns True\n",
    "- The same indentation applies to tell Python what code to execute when a function is called or what code belongs to a given class\n",
    "\n",
    "The key indentation rules laid out by PEP 8 are the following:\n",
    "    - Use 4 consecutive spaces to indicate indentation\n",
    "    - Prefer spaces over tabs\n",
    "\n",
    "# Comments\n",
    "\n",
    "- You should use comments to document code as it’s written\n",
    "- It is important to document your code so that you, and any collaborators, can understand it\n",
    "- When you or someone else reads a comment, they should be able to easily understand the code the comment applies to and how it fits in with the rest of your code\n",
    "\n",
    "# Here are some key points to remember when adding comments to your code:\n",
    "\n",
    "- Limit the line length of comments and docstrings to 72 characters\n",
    "- Use complete sentences, starting with a capital letter\n",
    "- Make sure to update comments if you change your code\n",
    "\n",
    "# Block Comments\n",
    "\n",
    "- Use block comments to document a small section of code\n",
    "- They are useful when you have to write several lines of code to perform a single action, such as importing data from a file or updating a database entry\n",
    "- They are important as they help others understand the purpose and functionality of a given code block\n",
    "\n",
    "# PEP 8 provides the following rules for writing block comments:\n",
    "\n",
    "- Indent block comments to the same level as the code they describe\n",
    "- Start each line with a # followed by a single space\n",
    "- Separate paragraphs by a line containing a single #\n",
    "\n",
    "Here is a block comment explaining the function of a for loop. Note that the sentence wraps to a new line to preserve the 79 character line limit:"
   ]
  },
  {
   "cell_type": "code",
   "execution_count": null,
   "metadata": {},
   "outputs": [],
   "source": [
    "for i in range(0, 10):\n",
    "    # Loop over i ten times and print out the value of i, followed by a\n",
    "    # new line character\n",
    "    print(i, '\\n')"
   ]
  },
  {
   "cell_type": "markdown",
   "metadata": {},
   "source": [
    "Sometimes, if the code is very technical, then it is necessary to use more than one paragraph in a block comment:"
   ]
  },
  {
   "cell_type": "code",
   "execution_count": null,
   "metadata": {},
   "outputs": [],
   "source": [
    "def quadratic(a, b, c, x):\n",
    "    # Calculate the solution to a quadratic equation using the quadratic\n",
    "    # formula.\n",
    "    #\n",
    "    # There are always two solutions to a quadratic equation, x_1 and x_2.\n",
    "    x_1 = (- b+(b**2-4*a*c)**(1/2)) / (2*a)\n",
    "    x_2 = (- b-(b**2-4*a*c)**(1/2)) / (2*a)\n",
    "    return x_1, x_2"
   ]
  },
  {
   "cell_type": "markdown",
   "metadata": {},
   "source": [
    "- If you’re ever in doubt as to what comment type is suitable, then block comments are often the way to go\n",
    "- Use them as much as possible throughout your code, but make sure to update them if you make changes to your code!\n",
    "\n",
    "# Inline Comments\n",
    "\n",
    "- Inline comments explain a single statement in a piece of code\n",
    "- They are useful to remind you, or explain to others, why a certain line of code is necessary\n",
    "\n",
    "Here’s what PEP 8 has to say about them:\n",
    "\n",
    "- Use inline comments sparingly.\n",
    "- Write inline comments on the same line as the statement they refer to.\n",
    "- Separate inline comments by two or more spaces from the statement.\n",
    "- Start inline comments with a # and a single space, like block comments.\n",
    "- Don’t use them to explain the obvious.\n",
    "\n",
    "Below is an example of an inline comment:"
   ]
  },
  {
   "cell_type": "code",
   "execution_count": null,
   "metadata": {},
   "outputs": [],
   "source": [
    "x = 5  # This is an inline comment"
   ]
  },
  {
   "cell_type": "markdown",
   "metadata": {},
   "source": [
    "- Sometimes, inline comments can seem necessary, but you can use better naming conventions instead. \n",
    "\n",
    "Here’s an example:"
   ]
  },
  {
   "cell_type": "code",
   "execution_count": null,
   "metadata": {},
   "outputs": [],
   "source": [
    "x = 'John Smith'  # Student Name"
   ]
  },
  {
   "cell_type": "markdown",
   "metadata": {},
   "source": [
    "- Here, the inline comment does give extra information\n",
    "- However using x as a variable name for a person’s name is bad practice\n",
    "- There’s no need for the inline comment if you rename your variable:"
   ]
  },
  {
   "cell_type": "code",
   "execution_count": null,
   "metadata": {},
   "outputs": [],
   "source": [
    "student_name = 'John Smith'"
   ]
  },
  {
   "cell_type": "markdown",
   "metadata": {},
   "source": [
    "- Finally, inline comments such as these are bad practice as they state the obvious and clutter code:"
   ]
  },
  {
   "cell_type": "code",
   "execution_count": null,
   "metadata": {},
   "outputs": [],
   "source": [
    "empty_list = []  # Initialize empty list\n",
    "\n",
    "x = 5\n",
    "x = x * 5  # Multiply x by 5"
   ]
  },
  {
   "cell_type": "markdown",
   "metadata": {},
   "source": [
    "- Inline comments are more specific than block comments, and it’s easy to add them when they’re not necessary, which leads to clutter\n",
    "- You could get away with only using block comments so, unless you are sure you need an inline comment, your code is more likely to be PEP 8 compliant if you stick to block comments\n",
    "\n",
    "# Documentation Strings\n",
    "\n",
    "- Documentation strings, or docstrings, are strings enclosed in double (\"\"\") or single (''') quotation marks that appear on the first line of any function, class, method, or module\n",
    "- You can use them to explain and document a specific block of code\n",
    "\n",
    "# The most important rules applying to docstrings are the following:\n",
    "\n",
    "- Surround docstrings with three double quotes on either side, as in \"\"\"This is a docstring\"\"\".\n",
    "- Write them for all public modules, functions, classes, and methods\n",
    "- Put the \"\"\" that ends a multiline docstring on a line by itself:"
   ]
  },
  {
   "cell_type": "code",
   "execution_count": null,
   "metadata": {},
   "outputs": [],
   "source": [
    "def quadratic(a, b, c, x):\n",
    "    \"\"\"Solve quadratic equation via the quadratic formula.\n",
    "\n",
    "    A quadratic equation has the following form:\n",
    "    ax**2 + bx + c = 0\n",
    "\n",
    "    There always two solutions to a quadratic equation: x_1 & x_2.\n",
    "    \"\"\"\n",
    "    x_1 = (- b+(b**2-4*a*c)**(1/2)) / (2*a)\n",
    "    x_2 = (- b-(b**2-4*a*c)**(1/2)) / (2*a)\n",
    "\n",
    "    return x_1, x_2\n",
    "\n",
    "# For one-line docstrings, keep the \"\"\" on the same line:\n",
    "\n",
    "def quadratic(a, b, c, x):\n",
    "    \"\"\"Use the quadratic formula\"\"\"\n",
    "    x_1 = (- b+(b**2-4*a*c)**(1/2)) / (2*a)\n",
    "    x_2 = (- b-(b**2-4*a*c)**(1/2)) / (2*a)\n",
    "\n",
    "    return x_1, x_2"
   ]
  },
  {
   "cell_type": "markdown",
   "metadata": {},
   "source": [
    "# Whitespace in Expressions and Statements\n",
    "\n",
    "- Whitespace can be very helpful in expressions and statements when used properly\n",
    "- If there is not enough whitespace, then code can be difficult to read, as it’s all bunched together\n",
    "- If there’s too much whitespace, then it can be difficult to visually combine related terms in a statement\n",
    "\n",
    "# Whitespace Around Binary Operators\n",
    "\n",
    "Surround the following binary operators with a single space on either side:\n",
    "\n",
    "Assignment operators (=, +=, -=, and so forth)\n",
    "\n",
    "Comparisons (==, !=, >, <. >=, <=) and (is, is not, in, not in)\n",
    "\n",
    "Booleans (and, not, or)\n",
    "\n",
    "Note: When = is used to assign a default value to a function argument, do not surround it with spaces."
   ]
  },
  {
   "cell_type": "code",
   "execution_count": null,
   "metadata": {},
   "outputs": [],
   "source": [
    "a = 10\n",
    "a=10"
   ]
  },
  {
   "cell_type": "code",
   "execution_count": null,
   "metadata": {},
   "outputs": [],
   "source": [
    "# Recommended\n",
    "def function(default_parameter=5):\n",
    "    # ..."
   ]
  },
  {
   "cell_type": "code",
   "execution_count": null,
   "metadata": {},
   "outputs": [],
   "source": [
    "# Not recommended\n",
    "def function(default_parameter = 5):\n",
    "    # ..."
   ]
  },
  {
   "cell_type": "markdown",
   "metadata": {},
   "source": [
    "- When there’s more than one operator in a statement, adding a single space before and after each operator can look confusing\n",
    "- Instead, it is better to only add whitespace around the operators with the lowest priority, especially when performing mathematical manipulation. Here are a couple examples:"
   ]
  },
  {
   "cell_type": "code",
   "execution_count": null,
   "metadata": {},
   "outputs": [],
   "source": [
    "# Recommended\n",
    "\n",
    "y = x**2 + 5\n",
    "z = (x+y) * (x-y)"
   ]
  },
  {
   "cell_type": "code",
   "execution_count": null,
   "metadata": {},
   "outputs": [],
   "source": [
    "# Not Recommended\n",
    "\n",
    "y = x ** 2 + 5\n",
    "z = (x + y) * (x - y)"
   ]
  },
  {
   "cell_type": "markdown",
   "metadata": {},
   "source": [
    "You can also apply this to if statements where there are multiple conditions:"
   ]
  },
  {
   "cell_type": "code",
   "execution_count": null,
   "metadata": {},
   "outputs": [],
   "source": [
    "# Not recommended\n",
    "x = 10\n",
    "if x > 5 and x % 2 == 0:\n",
    "    print('x is larger than 5 and divisible by 2!')\n",
    "    "
   ]
  },
  {
   "cell_type": "markdown",
   "metadata": {},
   "source": [
    "In the above example, the and operator has lowest priority. It may therefore be clearer to express the if statement as below:"
   ]
  },
  {
   "cell_type": "code",
   "execution_count": null,
   "metadata": {},
   "outputs": [],
   "source": [
    "# Recommended\n",
    "\n",
    "if x>5 and x%2==0:\n",
    "    print('x is larger than 5 and divisible by 2!')\n",
    "    "
   ]
  },
  {
   "cell_type": "markdown",
   "metadata": {},
   "source": [
    "You are free to choose which is clearer, with the caveat that you must use the same amount of whitespace either side of the operator.\n",
    "\n",
    "The following is not acceptable:"
   ]
  },
  {
   "cell_type": "code",
   "execution_count": null,
   "metadata": {},
   "outputs": [],
   "source": [
    "# Definitely do not do this!\n",
    "\n",
    "if x >5 and x% 2== 0:\n",
    "    print('x is larger than 5 and divisible by 2!')\n",
    "    "
   ]
  },
  {
   "cell_type": "markdown",
   "metadata": {},
   "source": [
    "- In summary, you should surround most operators with whitespace\n",
    "- However, there are some caveats to this rule, such as in function arguments or when you’re combining multiple operators in one statement\n",
    "\n",
    "# When to Avoid Adding Whitespace\n",
    "\n",
    "- In some cases, adding whitespace can make code harder to read\n",
    "- Too much whitespace can make code overly sparse and difficult to follow.\n",
    "- PEP 8 outlines very clear examples where whitespace is inappropriate\n",
    "\n",
    "- The most important place to avoid adding whitespace is at the end of a line\n",
    "- This is known as trailing whitespace\n",
    "- It is invisible and can produce errors that are difficult to trace\n",
    "\n",
    "The following list outlines some cases where you should avoid adding whitespace:\n",
    "\n",
    "Immediately inside parentheses, brackets, or braces:"
   ]
  },
  {
   "cell_type": "code",
   "execution_count": null,
   "metadata": {},
   "outputs": [],
   "source": [
    "# Recommended\n",
    "\n",
    "my_list=[1, 2, 3]\n",
    "\n",
    "# Not recommended\n",
    "my_list = [ 1, 2, 3, ]\n",
    "\n",
    "# Recommended\n",
    "print(x, y)\n",
    "\n",
    "# Not recommended\n",
    "print(x , y)\n",
    "\n",
    "# Before the open parenthesis that starts the argument list of a function call:\n",
    "\n",
    "def double(x):\n",
    "    return x*2\n",
    "\n",
    "# Recommended\n",
    "\n",
    "double(3)\n",
    "\n",
    "# Not recommended\n",
    "\n",
    "double (3)\n",
    "\n",
    "# Before the open bracket that starts an index or slice:\n",
    "\n",
    "# Recommended\n",
    "\n",
    "list[3]\n",
    "\n",
    "# Not recommended\n",
    "\n",
    "list [3]\n",
    "\n",
    "# Between a trailing comma and a closing parenthesis:\n",
    "\n",
    "# Recommended\n",
    "\n",
    "tuple = (1,)\n",
    "\n",
    "# Not recommended\n",
    "\n",
    "tuple = (1, )\n",
    "\n",
    "# To align assignment operators:\n",
    "\n",
    "# Recommended\n",
    "\n",
    "var1=5\n",
    "var2=6\n",
    "some_long_var=7\n",
    "\n",
    "# Not recommended\n",
    "\n",
    "var1          = 5\n",
    "var2          = 6\n",
    "some_long_var = 7"
   ]
  },
  {
   "cell_type": "markdown",
   "metadata": {},
   "source": [
    "- Make sure that there is no trailing whitespace anywhere in your code\n",
    "- There are other cases where PEP 8 discourages adding extra whitespace, such as immediately inside brackets, as well as before commas and colons\n",
    "- You should also never add extra whitespace in order to align operators\n",
    "\n",
    "# Programming Recommendations\n",
    "\n",
    "- You will often find that there are several ways to perform a similar action in Python (and any other programming language for that matter)\n",
    "- In this section, you’ll see some of the suggestions PEP 8 provides to remove that ambiguity and preserve consistency\n",
    "- Don’t compare boolean values to True or False using the equivalence operator\n",
    "- You’ll often need to check if a boolean value is True or False\n",
    "- When doing so, it is intuitive to do this with a statement like the one below:"
   ]
  },
  {
   "cell_type": "code",
   "execution_count": null,
   "metadata": {},
   "outputs": [],
   "source": [
    "# Not recommended\n",
    "\n",
    "my_bool = 6>5\n",
    "if my_bool==True:\n",
    "    return '6 is bigger than 5'\n",
    "    \n",
    "#The use of the equivalence operator, ==, is unnecessary here. bool can only take values True or \n",
    "#False. It is enough to write the following:\n",
    "\n",
    "# Recommended\n",
    "\n",
    "if my_bool:\n",
    "    return '6 is bigger than 5'\n",
    "    "
   ]
  },
  {
   "cell_type": "markdown",
   "metadata": {},
   "source": [
    "This way of performing an if statement with a boolean requires less code and is simpler, so PEP 8 encourages it\n",
    "\n",
    "- Use the fact that empty sequences are falsy in if statements\n",
    "- If you want to check whether a list is empty, you might be tempted to check the length of the list\n",
    "- If the list is empty, it’s length is 0 which is equivalent to False when used in an if statement\n",
    "\n",
    "Here’s an example:"
   ]
  },
  {
   "cell_type": "code",
   "execution_count": null,
   "metadata": {},
   "outputs": [],
   "source": [
    "# Not recommended\n",
    "\n",
    "my_list = []\n",
    "if not len(my_list):\n",
    "    print('List is empty!')\n",
    "\n",
    "# However, in Python any empty list, string, or tuple is falsy\n",
    "\n",
    "# We can therefore come up with a simpler alternative to the above:\n",
    "\n",
    "# Recommended\n",
    "\n",
    "my_list = []\n",
    "if not my_list:\n",
    "    print('List is empty!')"
   ]
  },
  {
   "cell_type": "markdown",
   "metadata": {},
   "source": [
    "While both examples will print out List is empty!, the second option is simpler, so PEP 8 encourages it"
   ]
  }
 ],
 "metadata": {
  "kernelspec": {
   "display_name": "Python 3",
   "language": "python",
   "name": "python3"
  },
  "language_info": {
   "codemirror_mode": {
    "name": "ipython",
    "version": 3
   },
   "file_extension": ".py",
   "mimetype": "text/x-python",
   "name": "python",
   "nbconvert_exporter": "python",
   "pygments_lexer": "ipython3",
   "version": "3.9.12"
  }
 },
 "nbformat": 4,
 "nbformat_minor": 4
}
