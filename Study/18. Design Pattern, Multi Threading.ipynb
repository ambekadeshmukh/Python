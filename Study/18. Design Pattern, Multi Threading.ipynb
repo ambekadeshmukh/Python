{
 "cells": [
  {
   "cell_type": "markdown",
   "metadata": {},
   "source": [
    "<img src=https://d1jnx9ba8s6j9r.cloudfront.net/blog/wp-content/uploads/2019/05/threads-multithreading-in-python-edureka-768x399.png>\n",
    "\n",
    "# Python Multithreading\n",
    "- Multithreading is a threading technique in Python programming to run multiple threads concurrently by rapidly switching between threads with a CPU help (called context switching)\n",
    "- Besides, it allows sharing of its data space with the main threads inside a process that share information and communication with other threads easier than individual processes\n",
    "- Multithreading aims to perform multiple tasks simultaneously, which increases performance, speed and improves the rendering of the application\n",
    "\n",
    "# Benefits of Multithreading in Python\n",
    "Following are the benefits to create a multithreaded application in Python, as follows:\n",
    "\n",
    "- It ensures effective utilization of computer system resources\n",
    "- Multithreaded applications are more responsive\n",
    "- It shares resources and its state with sub-threads (child) which makes it more economical\n",
    "- It saves time by executing multiple threads at the same time.\n",
    "- The system does not require too much memory to store multiple threads"
   ]
  },
  {
   "cell_type": "code",
   "execution_count": 2,
   "metadata": {},
   "outputs": [],
   "source": [
    "import threading # method 1\n",
    "from threading import * # method 2"
   ]
  },
  {
   "cell_type": "code",
   "execution_count": 3,
   "metadata": {},
   "outputs": [],
   "source": [
    "import time\n",
    "def sqr(n):\n",
    "    for x in n:\n",
    "        time.sleep(1)\n",
    "        x%2\n",
    "def cube(n):\n",
    "    for x in n:\n",
    "        time.sleep(1)\n",
    "        x%3\n",
    "\n",
    "n=[1,2,3,4,5,6,7,8]"
   ]
  },
  {
   "cell_type": "code",
   "execution_count": 4,
   "metadata": {},
   "outputs": [
    {
     "name": "stdout",
     "output_type": "stream",
     "text": [
      "16.114346027374268\n"
     ]
    }
   ],
   "source": [
    "s=time.time()\n",
    "sqr(n) # this process will be completed first\n",
    "cube(n) # then after completion of above process this starts\n",
    "e=time.time()\n",
    "print(e-s)"
   ]
  },
  {
   "cell_type": "markdown",
   "metadata": {},
   "source": [
    "- The above is the output time taken to execute the program without using threads\n",
    "- Now let us use threads and see what happens to the same program:"
   ]
  },
  {
   "cell_type": "code",
   "execution_count": 5,
   "metadata": {},
   "outputs": [],
   "source": [
    "import time\n",
    "def sqr(n):\n",
    "    for x in n:\n",
    "        time.sleep(1)\n",
    "        x%2\n",
    "def cube(n):\n",
    "    for x in n:\n",
    "        time.sleep(1)\n",
    "        x%3\n",
    "\n",
    "n=[1,2,3,4,5,6,7,8]"
   ]
  },
  {
   "cell_type": "code",
   "execution_count": 6,
   "metadata": {},
   "outputs": [
    {
     "name": "stdout",
     "output_type": "stream",
     "text": [
      "9.080715894699097\n"
     ]
    }
   ],
   "source": [
    "start=time.time()\n",
    "t1=Thread(target=sqr,args=(n,))\n",
    "t2=Thread(target=cube,args=(n,))\n",
    "t1.start()\n",
    "time.sleep(1)\n",
    "t2.start()\n",
    "t1.join()\n",
    "t2.join()\n",
    "end=time.time()\n",
    "print(end-start)"
   ]
  },
  {
   "cell_type": "code",
   "execution_count": 1,
   "metadata": {},
   "outputs": [
    {
     "data": {
      "text/plain": [
       "'C:\\\\Users\\\\HP\\\\Python'"
      ]
     },
     "execution_count": 1,
     "metadata": {},
     "output_type": "execute_result"
    }
   ],
   "source": [
    "pwd"
   ]
  }
 ],
 "metadata": {
  "kernelspec": {
   "display_name": "Python 3",
   "language": "python",
   "name": "python3"
  },
  "language_info": {
   "codemirror_mode": {
    "name": "ipython",
    "version": 3
   },
   "file_extension": ".py",
   "mimetype": "text/x-python",
   "name": "python",
   "nbconvert_exporter": "python",
   "pygments_lexer": "ipython3",
   "version": "3.9.12"
  }
 },
 "nbformat": 4,
 "nbformat_minor": 4
}
