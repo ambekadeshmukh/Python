{
 "cells": [
  {
   "cell_type": "markdown",
   "metadata": {},
   "source": [
    "# Python - Packages\n",
    "\n",
    "- We organize a large number of files in different folders and subfolders based on some criteria, so that we can find and manage them easily\n",
    "- In the same way, a package in Python takes the concept of the modular approach to next logical level\n",
    "- A package can contain one or more relevant modules\n",
    "- Physically, a package is actually a folder containing one or more module files\n",
    "\n",
    "# Advantages of using packages\n",
    "\n",
    " - Packages allows you to logically organize your Python code\n",
    " - Grouping related code into a module makes the code easier to understand and use\n",
    " - A module is a Python object with arbitrarily named attributes that you can bind and reference\n",
    " - Simply, a module is a file consisting of Python code\n",
    " \n",
    "# Python Packages Index\n",
    "\n",
    " - [PIP](https://pip.pypa.io/en/stable/) is the Package Installer for Python\n",
    " - It is used to install packages from Python Package Index [PyPI](https://pypi.org/) and other indexes\n",
    "\n",
    "# PyPI - Python Package Index\n",
    "\n",
    " - PyPI is the default repository of Python packages for Python community \n",
    " - Python developers can install and use packages\n",
    " - It is open to all Python developers to consume and distribute their distributions\n",
    " - Developers can search or browse projects from pypi.org\n",
    " \n",
    "# Install pip\n",
    "\n",
    "PIP has been included with Python installer since Python 3.4. You can verify whether the pip is installed on your machine by running the following command in your console:"
   ]
  },
  {
   "cell_type": "code",
   "execution_count": null,
   "metadata": {},
   "outputs": [],
   "source": [
    "!pip --version"
   ]
  },
  {
   "cell_type": "markdown",
   "metadata": {},
   "source": [
    "# Installing packages\n",
    "\n",
    " - PyPI maintains packages as projects. Use the following pip command to install the latest version of the project\n",
    "\n",
    "    * Pip install \"project-name\"\n",
    "\n",
    "\n",
    " - Use the following command installs the specific version of the project:\n",
    "\n",
    "    * pip install \"project-name==2.4\""
   ]
  },
  {
   "cell_type": "code",
   "execution_count": null,
   "metadata": {},
   "outputs": [],
   "source": [
    "!pip install pandas"
   ]
  },
  {
   "cell_type": "markdown",
   "metadata": {},
   "source": [
    "# Importing a package"
   ]
  },
  {
   "cell_type": "code",
   "execution_count": null,
   "metadata": {},
   "outputs": [],
   "source": [
    "import pandas as pd"
   ]
  },
  {
   "cell_type": "markdown",
   "metadata": {},
   "source": [
    "# List packages\n",
    "\n",
    "The list command can be used to see all the packages that have been installed on the system. If you want to check all the packages, use the pip list command:"
   ]
  },
  {
   "cell_type": "code",
   "execution_count": null,
   "metadata": {},
   "outputs": [],
   "source": [
    "!pip list"
   ]
  },
  {
   "cell_type": "markdown",
   "metadata": {},
   "source": [
    "# Uninstalling a Package\n",
    "\n",
    "The pip uninstall command can be used to remove a package. For example, if you want to remove urllib3 package, you can simply use the following command:"
   ]
  },
  {
   "cell_type": "code",
   "execution_count": null,
   "metadata": {},
   "outputs": [],
   "source": [
    "!pip uninstall \"project-name\""
   ]
  },
  {
   "cell_type": "markdown",
   "metadata": {},
   "source": [
    "The pip package manager will ask you to confirm if you want to uninstall the package. Proceed (y/n)?: If you press y, the package will be removed."
   ]
  }
 ],
 "metadata": {
  "kernelspec": {
   "display_name": "Python 3",
   "language": "python",
   "name": "python3"
  },
  "language_info": {
   "codemirror_mode": {
    "name": "ipython",
    "version": 3
   },
   "file_extension": ".py",
   "mimetype": "text/x-python",
   "name": "python",
   "nbconvert_exporter": "python",
   "pygments_lexer": "ipython3",
   "version": "3.7.6"
  }
 },
 "nbformat": 4,
 "nbformat_minor": 4
}
