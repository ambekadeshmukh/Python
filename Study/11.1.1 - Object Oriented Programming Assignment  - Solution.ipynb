{
 "cells": [
  {
   "cell_type": "markdown",
   "metadata": {},
   "source": [
    "# Object Oriented Programming\n",
    "## Homework Assignment\n",
    "\n",
    "#### Problem 1\n",
    "   * Create a Cricle class and intialize it with radius\n",
    "   * Create two functions getArea and getCircumference inside this class"
   ]
  },
  {
   "cell_type": "code",
   "execution_count": 1,
   "metadata": {},
   "outputs": [],
   "source": [
    "class Circle:\n",
    "    def __init__(self,radius):\n",
    "        self.radius = radius\n",
    "    def getarea(self):\n",
    "        return 3.14*self.radius**2\n",
    "    def get_circumference(self):\n",
    "        return self.radius*3.14**2"
   ]
  },
  {
   "cell_type": "code",
   "execution_count": 2,
   "metadata": {},
   "outputs": [],
   "source": [
    "data = Circle(10)"
   ]
  },
  {
   "cell_type": "code",
   "execution_count": 4,
   "metadata": {},
   "outputs": [
    {
     "data": {
      "text/plain": [
       "314.0"
      ]
     },
     "execution_count": 4,
     "metadata": {},
     "output_type": "execute_result"
    }
   ],
   "source": [
    "data.getarea()"
   ]
  },
  {
   "cell_type": "markdown",
   "metadata": {},
   "source": [
    "#### Problem 2\n",
    "\n",
    "Create a Temprature class. Make two methods :\n",
    "1. convertFahrenheit - It will take celsius and will print it into Fahrenheit.\n",
    "2. convertCelsius - It will take Fahrenheit and will convert it into Celsius."
   ]
  },
  {
   "cell_type": "code",
   "execution_count": 5,
   "metadata": {},
   "outputs": [],
   "source": [
    "class Temp:\n",
    "    def __init__(self, celcius, farenheit):\n",
    "        self.celcius = celcius\n",
    "        self.farenheit = farenheit\n",
    "    def c_to_f(self):\n",
    "        return (self.celcius * 9/5) + 32\n",
    "    def f_to_c(self):\n",
    "        return (self.farenheit - 32) * 5/9 "
   ]
  },
  {
   "cell_type": "code",
   "execution_count": 6,
   "metadata": {},
   "outputs": [],
   "source": [
    "data = Temp(100,300)"
   ]
  },
  {
   "cell_type": "code",
   "execution_count": 7,
   "metadata": {},
   "outputs": [
    {
     "data": {
      "text/plain": [
       "212.0"
      ]
     },
     "execution_count": 7,
     "metadata": {},
     "output_type": "execute_result"
    }
   ],
   "source": [
    "data.c_to_f()"
   ]
  },
  {
   "cell_type": "markdown",
   "metadata": {},
   "source": [
    "#### Problem 3\n",
    "\n",
    " * Create a class students\n",
    " * Initialize student name, roll num, age, phy, math\n",
    " * Create function to add phy and math marks\n",
    " * Create function to check %"
   ]
  },
  {
   "cell_type": "code",
   "execution_count": 8,
   "metadata": {},
   "outputs": [],
   "source": [
    "class Student:\n",
    "    def __init__(self,name, roll_num, age, phy, math):\n",
    "        self.name = name\n",
    "        self.roll_num = roll_num\n",
    "        self.age = age\n",
    "        self.phy = phy\n",
    "        self.math = math\n",
    "\n",
    "    def add(self):\n",
    "        return (self.phy + self.math)\n",
    "    \n",
    "    def percentage(self):\n",
    "        return (((self.phy + self.math) / 2))"
   ]
  },
  {
   "cell_type": "code",
   "execution_count": 9,
   "metadata": {},
   "outputs": [],
   "source": [
    "student1 = Student('Sree',12345,15,89,92)\n",
    "student2 = Student('Ram',123456,15,96,100)"
   ]
  },
  {
   "cell_type": "code",
   "execution_count": 10,
   "metadata": {},
   "outputs": [
    {
     "data": {
      "text/plain": [
       "98.0"
      ]
     },
     "execution_count": 10,
     "metadata": {},
     "output_type": "execute_result"
    }
   ],
   "source": [
    "student2.percentage()"
   ]
  },
  {
   "cell_type": "markdown",
   "metadata": {},
   "source": [
    "________\n",
    "#### Problem 4\n",
    "\n",
    " * Create a class Arithmetic Operation\n",
    " * Create a class object attribute pi = 3.14\n",
    " * Initialize a,b\n",
    " * Create function to calculate area of circle, volume of sphere, add, sub, mul, div, floor divison on a,b"
   ]
  },
  {
   "cell_type": "code",
   "execution_count": 6,
   "metadata": {},
   "outputs": [
    {
     "data": {
      "text/plain": [
       "20"
      ]
     },
     "execution_count": 6,
     "metadata": {},
     "output_type": "execute_result"
    }
   ],
   "source": [
    "class Arithmetic:\n",
    "    pi = 3.14\n",
    "    # Circle gets instantiated with a radius (default is 1)\n",
    "    def __init__(self, a,b, radius=1):\n",
    "        self.radius = radius\n",
    "        self.a = a\n",
    "        self.b = b\n",
    "# class Arithmetic:\n",
    "#     pi = 3.14\n",
    "#     def __intit__(self,a,b,radius):\n",
    "#         self.radius = radius\n",
    "#         self.a = a\n",
    "#         self.b = b\n",
    "        \n",
    "    def area(self):\n",
    "        return self.radius * self.radius * self.pi\n",
    "#         self.pi = 3.14\n",
    "    def volume_of_sphere(self):\n",
    "        return 4/3 * self.pi * r**3\n",
    "# Method for resetting Radius\n",
    "    def setRadius(self, new_radius):\n",
    "        self.radius = new_radius\n",
    "        self.area = new_radius * new_radius * self.pi\n",
    "        self.area\n",
    "\n",
    "    # Method for getting Circumference\n",
    "    def getCircumference(self):\n",
    "        return self.radius * self.pi * 2\n",
    "    \n",
    "    def add(self):\n",
    "        val = self.a + self.b\n",
    "        return val\n",
    "    def sub(self):\n",
    "        return self.a - self.b\n",
    "    def mul(a,b):\n",
    "        return self.a * self.b\n",
    "\n",
    "c = Arithmetic(10, 10, 20)\n",
    "c.add()"
   ]
  },
  {
   "cell_type": "code",
   "execution_count": 5,
   "metadata": {
    "scrolled": true
   },
   "outputs": [
    {
     "name": "stdout",
     "output_type": "stream",
     "text": [
      "Radius is:  2\n",
      "Area is:  12.56\n",
      "Circumference is:  12.56\n"
     ]
    }
   ],
   "source": [
    "c.setRadius(2)\n",
    "\n",
    "print('Radius is: ',c.radius)\n",
    "print('Area is: ',c.area)\n",
    "print('Circumference is: ',c.getCircumference())"
   ]
  }
 ],
 "metadata": {
  "kernelspec": {
   "display_name": "Python 3",
   "language": "python",
   "name": "python3"
  },
  "language_info": {
   "codemirror_mode": {
    "name": "ipython",
    "version": 3
   },
   "file_extension": ".py",
   "mimetype": "text/x-python",
   "name": "python",
   "nbconvert_exporter": "python",
   "pygments_lexer": "ipython3",
   "version": "3.9.12"
  }
 },
 "nbformat": 4,
 "nbformat_minor": 1
}
