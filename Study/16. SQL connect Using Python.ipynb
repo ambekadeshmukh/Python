{
 "cells": [
  {
   "cell_type": "markdown",
   "metadata": {},
   "source": [
    "* [Documentation](https://github.com/mkleehammer/pyodbc/wiki)\n",
    "* [Documentation](https://github.com/mkleehammer/pyodbc/wiki/Connecting-to-Microsoft-Access)\n",
    "* [Video](https://www.youtube.com/watch?v=MIMEW9v4B4c)\n",
    "* [Reference](https://datatofish.com/how-to-connect-python-to-ms-access-database-using-pyodbc/)"
   ]
  },
  {
   "cell_type": "code",
   "execution_count": null,
   "metadata": {},
   "outputs": [],
   "source": [
    "# !pip install pyodbc"
   ]
  },
  {
   "cell_type": "code",
   "execution_count": 1,
   "metadata": {},
   "outputs": [
    {
     "name": "stdout",
     "output_type": "stream",
     "text": [
      "BIO\n",
      "CHE\n",
      "machinary\n",
      "PHY\n",
      "Student\n",
      "('007', 'NAVEEN', 'M', '1A')\n",
      "('001', 'SHANKAR', 'M', '1A')\n",
      "('006', 'SUBATHRA', 'F', '2C')\n",
      "('008', 'ARAVINTH', 'M', '1B')\n",
      "('005', 'SAMPATH', 'M', '2B')\n",
      "('003', 'SHRIRAM', 'M', '1C')\n"
     ]
    }
   ],
   "source": [
    "import pyodbc\n",
    "[x for x in pyodbc.drivers() if x.startswith('Microsoft Access Driver')]\n",
    "\n",
    "conn_str = (\n",
    "    r'DRIVER={Microsoft Access Driver (*.mdb, *.accdb)};'\n",
    "    r'DBQ=D:\\SQL\\ASSIGNMENTS\\SESSION 3 & 4 ASSIGNMENTS\\SQLCASE 1\\Database1.accdb;'\n",
    "    )\n",
    "# \"D:\\SQL\\ASSIGNMENTS\\SESSION 3 & 4 ASSIGNMENTS\\SQLCASE 1\\Database1.accdb\"\n",
    "cnxn = pyodbc.connect(conn_str)\n",
    "crsr = cnxn.cursor()\n",
    "for table_info in crsr.tables(tableType='TABLE'):\n",
    "    print(table_info.table_name)\n",
    "crsr.execute('SELECT * FROM BIO')\n",
    "for row in crsr.fetchall(): \n",
    "    print(row)"
   ]
  },
  {
   "cell_type": "code",
   "execution_count": 2,
   "metadata": {},
   "outputs": [
    {
     "name": "stdout",
     "output_type": "stream",
     "text": [
      "PartNumber\n",
      "Description\n",
      "Quantity\n",
      "Supplier\n",
      "datepur\n"
     ]
    }
   ],
   "source": [
    "for row in crsr.columns(table='machinary'):\n",
    "    print (row.column_name)"
   ]
  },
  {
   "cell_type": "code",
   "execution_count": 3,
   "metadata": {},
   "outputs": [
    {
     "name": "stdout",
     "output_type": "stream",
     "text": [
      "('001', 'SHANKAR', 'M', '1A')\n",
      "('002', 'HARI', 'M', '1B')\n",
      "('003', 'SHRIRAM', 'M', '1C')\n",
      "('004', 'SIDDHU', 'M', '2A')\n",
      "('005', 'SAMPATH', 'M', '2B')\n"
     ]
    }
   ],
   "source": [
    "crsr.execute('SELECT * FROM CHE')\n",
    "for row in crsr.fetchall(): \n",
    "    print(row)"
   ]
  },
  {
   "cell_type": "code",
   "execution_count": 4,
   "metadata": {},
   "outputs": [
    {
     "name": "stdout",
     "output_type": "stream",
     "text": [
      "(7, 'pipe wrinch', 100, 'Sid Steels', None)\n",
      "(8, 'cutting plier', 100, 'China Metals Co', None)\n",
      "(0, 'Shaft', 75, 'Sid Steels', None)\n",
      "(6, 'Raw Material', 60, 'Sid Steels', None)\n"
     ]
    }
   ],
   "source": [
    "crsr.execute('SELECT * FROM machinary')\n",
    "for row in crsr.fetchall(): \n",
    "    print(row)"
   ]
  },
  {
   "cell_type": "code",
   "execution_count": 5,
   "metadata": {},
   "outputs": [
    {
     "name": "stdout",
     "output_type": "stream",
     "text": [
      "PartNumber\n",
      "Description\n",
      "Quantity\n",
      "Supplier\n",
      "datepur\n"
     ]
    }
   ],
   "source": [
    "for row in crsr.columns(table='machinary'):\n",
    "    print (row.column_name)"
   ]
  },
  {
   "cell_type": "code",
   "execution_count": 6,
   "metadata": {},
   "outputs": [
    {
     "name": "stdout",
     "output_type": "stream",
     "text": [
      "(60, )\n",
      "(75, )\n",
      "(100, )\n",
      "(100, )\n"
     ]
    }
   ],
   "source": [
    "crsr.execute('SELECT quantity FROM machinary ORDER BY quantity')\n",
    "for row in crsr.fetchall(): \n",
    "    print(row)"
   ]
  },
  {
   "cell_type": "code",
   "execution_count": 7,
   "metadata": {},
   "outputs": [
    {
     "name": "stdout",
     "output_type": "stream",
     "text": [
      "('007', 'NAVEEN', 'M', '1A')\n",
      "('001', 'SHANKAR', 'M', '1A')\n",
      "('006', 'SUBATHRA', 'F', '2C')\n",
      "('008', 'ARAVINTH', 'M', '1B')\n",
      "('005', 'SAMPATH', 'M', '2B')\n",
      "('003', 'SHRIRAM', 'M', '1C')\n"
     ]
    }
   ],
   "source": [
    "crsr.execute('SELECT * FROM BIO')\n",
    "for row in crsr.fetchall(): \n",
    "    print(row)\n",
    "# crsr.execute(\"DROP TABLE TEST CASCADE\")\n",
    "# crsr.close()\n",
    "# cnxn.close()"
   ]
  },
  {
   "cell_type": "code",
   "execution_count": 8,
   "metadata": {},
   "outputs": [
    {
     "name": "stdout",
     "output_type": "stream",
     "text": [
      "('Hari', 'tst')\n",
      "('tharamani', 'ece')\n",
      "('Sheeiram', 'ice')\n",
      "('shankar', 'ice')\n",
      "('sid', 'ece')\n",
      "('siddhu', 'ece')\n",
      "('Sampath', 'eee')\n",
      "('Subathra', 'tst')\n",
      "('kanmani', 'eee')\n",
      "('Tynaveen', 'tst')\n",
      "('aravinth', 'ece')\n",
      "(None, '0')\n"
     ]
    }
   ],
   "source": [
    "crsr.execute('SELECT fullname, dcode FROM student')\n",
    "for row in crsr.fetchall(): \n",
    "    print(row)"
   ]
  },
  {
   "cell_type": "code",
   "execution_count": 9,
   "metadata": {},
   "outputs": [
    {
     "name": "stderr",
     "output_type": "stream",
     "text": [
      "C:\\Users\\HP\\anaconda3\\lib\\site-packages\\pandas\\io\\sql.py:761: UserWarning: pandas only support SQLAlchemy connectable(engine/connection) ordatabase string URI or sqlite3 DBAPI2 connectionother DBAPI2 objects are not tested, please consider using SQLAlchemy\n",
      "  warnings.warn(\n"
     ]
    },
    {
     "data": {
      "text/html": [
       "<div>\n",
       "<style scoped>\n",
       "    .dataframe tbody tr th:only-of-type {\n",
       "        vertical-align: middle;\n",
       "    }\n",
       "\n",
       "    .dataframe tbody tr th {\n",
       "        vertical-align: top;\n",
       "    }\n",
       "\n",
       "    .dataframe thead th {\n",
       "        text-align: right;\n",
       "    }\n",
       "</style>\n",
       "<table border=\"1\" class=\"dataframe\">\n",
       "  <thead>\n",
       "    <tr style=\"text-align: right;\">\n",
       "      <th></th>\n",
       "      <th>ID</th>\n",
       "      <th>fullname</th>\n",
       "      <th>dob</th>\n",
       "      <th>sex</th>\n",
       "      <th>class</th>\n",
       "      <th>hcode</th>\n",
       "      <th>mtest</th>\n",
       "      <th>dcode</th>\n",
       "    </tr>\n",
       "  </thead>\n",
       "  <tbody>\n",
       "    <tr>\n",
       "      <th>0</th>\n",
       "      <td>1</td>\n",
       "      <td>Hari</td>\n",
       "      <td>09/04/1995</td>\n",
       "      <td>M</td>\n",
       "      <td>1A</td>\n",
       "      <td>R</td>\n",
       "      <td>78</td>\n",
       "      <td>tst</td>\n",
       "    </tr>\n",
       "    <tr>\n",
       "      <th>1</th>\n",
       "      <td>2</td>\n",
       "      <td>tharamani</td>\n",
       "      <td>12/02/1986</td>\n",
       "      <td>M</td>\n",
       "      <td>1A</td>\n",
       "      <td>Y</td>\n",
       "      <td>45</td>\n",
       "      <td>ece</td>\n",
       "    </tr>\n",
       "    <tr>\n",
       "      <th>2</th>\n",
       "      <td>3</td>\n",
       "      <td>Sheeiram</td>\n",
       "      <td>26/11/1994</td>\n",
       "      <td>M</td>\n",
       "      <td>2A</td>\n",
       "      <td>B</td>\n",
       "      <td>36</td>\n",
       "      <td>ice</td>\n",
       "    </tr>\n",
       "    <tr>\n",
       "      <th>3</th>\n",
       "      <td>4</td>\n",
       "      <td>shankar</td>\n",
       "      <td>26/03/1995</td>\n",
       "      <td>M</td>\n",
       "      <td>3A</td>\n",
       "      <td>G</td>\n",
       "      <td>82</td>\n",
       "      <td>ice</td>\n",
       "    </tr>\n",
       "    <tr>\n",
       "      <th>4</th>\n",
       "      <td>5</td>\n",
       "      <td>sid</td>\n",
       "      <td>19/03/1995</td>\n",
       "      <td>M</td>\n",
       "      <td>2A</td>\n",
       "      <td>G</td>\n",
       "      <td>91</td>\n",
       "      <td>ece</td>\n",
       "    </tr>\n",
       "    <tr>\n",
       "      <th>5</th>\n",
       "      <td>6</td>\n",
       "      <td>siddhu</td>\n",
       "      <td>19/03/1995</td>\n",
       "      <td>M</td>\n",
       "      <td>1A</td>\n",
       "      <td>G</td>\n",
       "      <td>81</td>\n",
       "      <td>ece</td>\n",
       "    </tr>\n",
       "    <tr>\n",
       "      <th>6</th>\n",
       "      <td>7</td>\n",
       "      <td>Sampath</td>\n",
       "      <td>25/05/1958</td>\n",
       "      <td>M</td>\n",
       "      <td>3B</td>\n",
       "      <td>B</td>\n",
       "      <td>71</td>\n",
       "      <td>eee</td>\n",
       "    </tr>\n",
       "    <tr>\n",
       "      <th>7</th>\n",
       "      <td>8</td>\n",
       "      <td>Subathra</td>\n",
       "      <td>30/11/1964</td>\n",
       "      <td>F</td>\n",
       "      <td>2B</td>\n",
       "      <td>R</td>\n",
       "      <td>61</td>\n",
       "      <td>tst</td>\n",
       "    </tr>\n",
       "    <tr>\n",
       "      <th>8</th>\n",
       "      <td>9</td>\n",
       "      <td>kanmani</td>\n",
       "      <td>21/05/1993</td>\n",
       "      <td>M</td>\n",
       "      <td>1B</td>\n",
       "      <td>R</td>\n",
       "      <td>51</td>\n",
       "      <td>eee</td>\n",
       "    </tr>\n",
       "    <tr>\n",
       "      <th>9</th>\n",
       "      <td>10</td>\n",
       "      <td>Tynaveen</td>\n",
       "      <td>23/01/1995</td>\n",
       "      <td>M</td>\n",
       "      <td>1B</td>\n",
       "      <td>Y</td>\n",
       "      <td>100</td>\n",
       "      <td>tst</td>\n",
       "    </tr>\n",
       "    <tr>\n",
       "      <th>10</th>\n",
       "      <td>11</td>\n",
       "      <td>aravinth</td>\n",
       "      <td>26/03/1995</td>\n",
       "      <td>M</td>\n",
       "      <td>2B</td>\n",
       "      <td>B</td>\n",
       "      <td>90</td>\n",
       "      <td>ece</td>\n",
       "    </tr>\n",
       "    <tr>\n",
       "      <th>11</th>\n",
       "      <td>13</td>\n",
       "      <td>None</td>\n",
       "      <td>None</td>\n",
       "      <td>None</td>\n",
       "      <td>None</td>\n",
       "      <td>None</td>\n",
       "      <td>0</td>\n",
       "      <td>0</td>\n",
       "    </tr>\n",
       "  </tbody>\n",
       "</table>\n",
       "</div>"
      ],
      "text/plain": [
       "    ID   fullname         dob   sex class hcode  mtest dcode\n",
       "0    1       Hari  09/04/1995     M    1A     R     78   tst\n",
       "1    2  tharamani  12/02/1986     M    1A     Y     45   ece\n",
       "2    3   Sheeiram  26/11/1994     M    2A     B     36   ice\n",
       "3    4    shankar  26/03/1995     M    3A     G     82   ice\n",
       "4    5        sid  19/03/1995     M    2A     G     91   ece\n",
       "5    6     siddhu  19/03/1995     M    1A     G     81   ece\n",
       "6    7    Sampath  25/05/1958     M    3B     B     71   eee\n",
       "7    8   Subathra  30/11/1964     F    2B     R     61   tst\n",
       "8    9    kanmani  21/05/1993     M    1B     R     51   eee\n",
       "9   10   Tynaveen  23/01/1995     M    1B     Y    100   tst\n",
       "10  11   aravinth  26/03/1995     M    2B     B     90   ece\n",
       "11  13       None        None  None  None  None      0     0"
      ]
     },
     "execution_count": 9,
     "metadata": {},
     "output_type": "execute_result"
    }
   ],
   "source": [
    "import pandas as pd\n",
    "tableResult = pd.read_sql(\"SELECT * FROM student\", cnxn) \n",
    "tableResult"
   ]
  },
  {
   "cell_type": "code",
   "execution_count": 10,
   "metadata": {},
   "outputs": [
    {
     "data": {
      "text/html": [
       "<div>\n",
       "<style scoped>\n",
       "    .dataframe tbody tr th:only-of-type {\n",
       "        vertical-align: middle;\n",
       "    }\n",
       "\n",
       "    .dataframe tbody tr th {\n",
       "        vertical-align: top;\n",
       "    }\n",
       "\n",
       "    .dataframe thead th {\n",
       "        text-align: right;\n",
       "    }\n",
       "</style>\n",
       "<table border=\"1\" class=\"dataframe\">\n",
       "  <thead>\n",
       "    <tr style=\"text-align: right;\">\n",
       "      <th></th>\n",
       "      <th>ID</th>\n",
       "      <th>fullname</th>\n",
       "      <th>dob</th>\n",
       "      <th>sex</th>\n",
       "      <th>class</th>\n",
       "      <th>hcode</th>\n",
       "      <th>mtest</th>\n",
       "      <th>dcode</th>\n",
       "    </tr>\n",
       "  </thead>\n",
       "  <tbody>\n",
       "    <tr>\n",
       "      <th>7</th>\n",
       "      <td>8</td>\n",
       "      <td>Subathra</td>\n",
       "      <td>30/11/1964</td>\n",
       "      <td>F</td>\n",
       "      <td>2B</td>\n",
       "      <td>R</td>\n",
       "      <td>61</td>\n",
       "      <td>tst</td>\n",
       "    </tr>\n",
       "  </tbody>\n",
       "</table>\n",
       "</div>"
      ],
      "text/plain": [
       "  ID  fullname         dob sex class hcode  mtest dcode\n",
       "7  8  Subathra  30/11/1964   F    2B     R     61   tst"
      ]
     },
     "execution_count": 10,
     "metadata": {},
     "output_type": "execute_result"
    }
   ],
   "source": [
    "tableResult[tableResult['sex'] == 'F']"
   ]
  },
  {
   "cell_type": "code",
   "execution_count": 11,
   "metadata": {},
   "outputs": [],
   "source": [
    "tableResult.to_excel(\"FileExample.xlsx\",sheet_name='Results')"
   ]
  },
  {
   "cell_type": "code",
   "execution_count": 12,
   "metadata": {},
   "outputs": [
    {
     "data": {
      "text/plain": [
       "'C:\\\\Users\\\\HP\\\\Python\\\\MSME\\\\MSME - Python'"
      ]
     },
     "execution_count": 12,
     "metadata": {},
     "output_type": "execute_result"
    }
   ],
   "source": [
    "pwd"
   ]
  }
 ],
 "metadata": {
  "kernelspec": {
   "display_name": "Python 3",
   "language": "python",
   "name": "python3"
  },
  "language_info": {
   "codemirror_mode": {
    "name": "ipython",
    "version": 3
   },
   "file_extension": ".py",
   "mimetype": "text/x-python",
   "name": "python",
   "nbconvert_exporter": "python",
   "pygments_lexer": "ipython3",
   "version": "3.9.12"
  }
 },
 "nbformat": 4,
 "nbformat_minor": 2
}
