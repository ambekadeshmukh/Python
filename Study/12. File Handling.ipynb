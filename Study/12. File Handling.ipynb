{
 "cells": [
  {
   "cell_type": "markdown",
   "metadata": {},
   "source": [
    "# File Handling in Python\n",
    "\n",
    "- Python too supports file handling and allows users to handle files i.e., to read and write files, along with many other file handling options, to operate on files\n",
    "- The concept of file handling has stretched over various other languages, but the implementation is either complicated or lengthy, but alike other concepts of Python, this concept here is also easy and short\n",
    " - Each line of code includes a sequence of characters and they form text file\n",
    " - Each line of a file is terminated with a special character, called the EOL or End of Line characters like comma {,} or newline character\n",
    "\n",
    "# Working of open() function\n",
    "\n",
    " - We use open() function in Python to open a file in read or write mode\n",
    " - To return a file object we use open() function along with two arguments, that accepts file name and the mode, whether to read or write\n",
    " - So, the syntax being: **open(filename, mode)**. There are three kinds of mode, that Python provides and how files can be opened:\n",
    "\n",
    " *** “ r “, for reading - Opens a file for reading, error if the file does not exist\n",
    "  \n",
    " *** “ w “, for writing - Opens a file for writing, creates the file if it does not exist\n",
    " \n",
    " *** “ a “, for appending -  Opens a file for appending, creates the file if it does not exist\n",
    " \n",
    " *** “ r+ “, for both reading and writing\n",
    " \n",
    "\n",
    " - One must keep in mind that the mode argument is not mandatory\n",
    " - If not passed, then Python will assume it to be “ r ” by default\n",
    " - Let’s look at this program and try to analyze how the read mode works:"
   ]
  },
  {
   "cell_type": "code",
   "execution_count": null,
   "metadata": {},
   "outputs": [],
   "source": [
    "# a file named \"test\", will be opened with the reading mode.\n",
    "file = open(r\"C:\\Users\\HP\\Python\\MSME\\MSME - Python\\12.1.3 - test.txt\", 'r')\n",
    "# This will print every line one by one in the file\n",
    "for each in file:\n",
    "    print (each)"
   ]
  },
  {
   "cell_type": "markdown",
   "metadata": {},
   "source": [
    "#### The open command will open the file in the read mode and the for loop will print each line present in the file.\n",
    "\n",
    "There is more than one way to read a file in Python. If you need to extract a string that contains all characters in the file then we can use file.read(). The full code would work like this:"
   ]
  },
  {
   "cell_type": "code",
   "execution_count": null,
   "metadata": {},
   "outputs": [],
   "source": [
    "# Python code to illustrate read() mode\n",
    "file = open(r\"C:\\Users\\HP\\Python\\MSME\\MSME - Python\\12.1.3 - test.txt\", \"r\") \n",
    "print(file.read())"
   ]
  },
  {
   "cell_type": "code",
   "execution_count": null,
   "metadata": {},
   "outputs": [],
   "source": [
    "pwd\n",
    "# Go to the folder where the file is present\n",
    "# Click on the file once\n",
    "# Shift+right click -> Copy as path\n",
    "# \"C:\\Users\\HP\\Python\\1. Core Python\\08-File Handling\\test.txt\""
   ]
  },
  {
   "cell_type": "code",
   "execution_count": 11,
   "metadata": {},
   "outputs": [
    {
     "name": "stdout",
     "output_type": "stream",
     "text": [
      "Python \n",
      "Python Solutions\n",
      "Python Exercises\n",
      "Python Solutions\n",
      "Python Exercises\n",
      "This will add new line\n"
     ]
    }
   ],
   "source": [
    "# Python code to illustrate read() mode\n",
    "file = open(r\"C:\\Users\\HP\\Python\\MSME\\MSME - Python\\12.1.3 - test.txt\", \"r\")  # specifying full path\n",
    "print (file.read())"
   ]
  },
  {
   "cell_type": "code",
   "execution_count": 2,
   "metadata": {},
   "outputs": [
    {
     "name": "stdout",
     "output_type": "stream",
     "text": [
      "['Python \\n', 'Python Solutions\\n', 'Python Exercises\\n', 'Python Solutions\\n', 'Python Exercises']\n"
     ]
    }
   ],
   "source": [
    "file = open(r\"C:\\Users\\HP\\Python\\MSME\\MSME - Python\\12.1.3 - test.txt\", \"r\")  # specifying full path\n",
    "print (file.readlines())"
   ]
  },
  {
   "cell_type": "markdown",
   "metadata": {},
   "source": [
    "Another way to read a file is to call a certain number of characters like in the following code the interpreter will read the first five characters of stored data and return it as a string:"
   ]
  },
  {
   "cell_type": "code",
   "execution_count": 1,
   "metadata": {},
   "outputs": [
    {
     "name": "stdout",
     "output_type": "stream",
     "text": [
      "Python\n"
     ]
    }
   ],
   "source": [
    "# Python code to illustrate read() mode character wise\n",
    "file = open(r\"C:\\Users\\HP\\Python\\MSME\\MSME - Python\\12.1.3 - test.txt\", \"r\")\n",
    "print(file.read(6))"
   ]
  },
  {
   "cell_type": "markdown",
   "metadata": {},
   "source": [
    "# Creating a file using write() mode\n",
    "\n",
    "Let’s see how to create a file and how write mode works:\n",
    "To manipulate the file, write the following in your Python environment:"
   ]
  },
  {
   "cell_type": "code",
   "execution_count": 3,
   "metadata": {},
   "outputs": [],
   "source": [
    "# Python code to create a file\n",
    "file = open(r\"C:\\Users\\HP\\Python\\MSME\\MSME - Python\\12.1.2 - my_first_file.txt\",'w')\n",
    "file.write(\"This is the write command\\n\")\n",
    "file.write(\"It allows us to write in a particular file\")\n",
    "file.close()"
   ]
  },
  {
   "cell_type": "markdown",
   "metadata": {},
   "source": [
    "# Closing Files in Python\n",
    "\n",
    "When we are done with performing operations on the file, we need to properly close the file.\n",
    "\n",
    "Closing a file will free up the resources that were tied with the file. It is done using the close() method available in Python\n",
    "\n",
    "# Working of append() mode\n",
    "\n",
    "Let’s see how the append mode works:"
   ]
  },
  {
   "cell_type": "code",
   "execution_count": 4,
   "metadata": {},
   "outputs": [],
   "source": [
    "# Python code to illustrate append() mode\n",
    "file = open(r\"C:\\Users\\HP\\Python\\MSME\\MSME - Python\\12.1.3 - test.txt\",'a')\n",
    "file.write(\"\\nThis will add new line\")\n",
    "file.close()"
   ]
  },
  {
   "cell_type": "code",
   "execution_count": 5,
   "metadata": {},
   "outputs": [],
   "source": [
    "# Python code to illustrate with()\n",
    "with open(r\"C:\\Users\\HP\\Python\\MSME\\MSME - Python\\12.1.3 - test.txt\") as file:\n",
    "    data = file.read() \n",
    "# do something with data "
   ]
  },
  {
   "cell_type": "code",
   "execution_count": 6,
   "metadata": {},
   "outputs": [
    {
     "data": {
      "text/plain": [
       "'Python \\nPython Solutions\\nPython Exercises\\nPython Solutions\\nPython Exercises\\nThis will add new line'"
      ]
     },
     "execution_count": 6,
     "metadata": {},
     "output_type": "execute_result"
    }
   ],
   "source": [
    "data"
   ]
  },
  {
   "cell_type": "markdown",
   "metadata": {},
   "source": [
    "# Using write along with with() function\n",
    "\n",
    "We can also use write function along with with() function:"
   ]
  },
  {
   "cell_type": "code",
   "execution_count": 7,
   "metadata": {},
   "outputs": [],
   "source": [
    "# Python code to illustrate with() alongwith write()\n",
    "with open(r\"C:\\Users\\HP\\Python\\MSME\\MSME - Python\\12.1.1 - file.txt\", \"w\") as f: \n",
    "    f.write(\"Hello World!!!\")"
   ]
  },
  {
   "cell_type": "markdown",
   "metadata": {},
   "source": [
    "# split() using file handling\n",
    "\n",
    "We can also split lines using file handling in Python. This splits the variable when space is encountered. You can also split using any characters as we wish. Here is the code:"
   ]
  },
  {
   "cell_type": "code",
   "execution_count": 8,
   "metadata": {},
   "outputs": [
    {
     "data": {
      "text/plain": [
       "['Hello World!!!']"
      ]
     },
     "execution_count": 8,
     "metadata": {},
     "output_type": "execute_result"
    }
   ],
   "source": [
    "# Python code to illustrate split() function\n",
    "with open(r\"C:\\Users\\HP\\Python\\MSME\\MSME - Python\\12.1.1 - file.txt\", \"r\") as file:\n",
    "    data = file.readlines()\n",
    "data"
   ]
  },
  {
   "cell_type": "code",
   "execution_count": 9,
   "metadata": {},
   "outputs": [
    {
     "name": "stdout",
     "output_type": "stream",
     "text": [
      "['Hello', 'World!!!']\n"
     ]
    }
   ],
   "source": [
    "# Python code to illustrate split() function\n",
    "with open(r\"C:\\Users\\HP\\Python\\MSME\\MSME - Python\\12.1.1 - file.txt\", \"r\") as file:\n",
    "    data = file.readlines()\n",
    "    for line in data: # ['Hello World!!!']\n",
    "        word = line.split()\n",
    "        print (word)"
   ]
  },
  {
   "cell_type": "code",
   "execution_count": 10,
   "metadata": {},
   "outputs": [
    {
     "name": "stdout",
     "output_type": "stream",
     "text": [
      "['Python']\n",
      "['Python', 'Solutions']\n",
      "['Python', 'Exercises']\n",
      "['Python', 'Solutions']\n",
      "['Python', 'Exercises']\n",
      "['This', 'will', 'add', 'new', 'line']\n"
     ]
    }
   ],
   "source": [
    "# Python code to illustrate split() function\n",
    "with open(r\"C:\\Users\\HP\\Python\\MSME\\MSME - Python\\12.1.3 - test.txt\", \"r\") as file:\n",
    "    data = file.readlines()\n",
    "    for line in data: # ['Hello World!!!']\n",
    "        word = line.split()\n",
    "        print (word)"
   ]
  },
  {
   "cell_type": "markdown",
   "metadata": {},
   "source": [
    "# [Quiz](https://quizizz.com/admin/quiz/5cf76b74a8c1d1001ae417dd/file-handling-python)\n",
    "# [Add On](https://www.programiz.com/python-programming/file-operation)\n",
    "# [Add On](https://www.tutorialspoint.com/python/python_files_io.htm)\n",
    "# [Add On](https://www.guru99.com/reading-and-writing-files-in-python.html)"
   ]
  }
 ],
 "metadata": {
  "kernelspec": {
   "display_name": "Python 3",
   "language": "python",
   "name": "python3"
  },
  "language_info": {
   "codemirror_mode": {
    "name": "ipython",
    "version": 3
   },
   "file_extension": ".py",
   "mimetype": "text/x-python",
   "name": "python",
   "nbconvert_exporter": "python",
   "pygments_lexer": "ipython3",
   "version": "3.9.12"
  }
 },
 "nbformat": 4,
 "nbformat_minor": 4
}
