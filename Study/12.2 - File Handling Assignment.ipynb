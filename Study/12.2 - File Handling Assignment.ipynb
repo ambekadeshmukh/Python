{
 "cells": [
  {
   "cell_type": "code",
   "execution_count": null,
   "metadata": {},
   "outputs": [],
   "source": [
    "# 1. Write a Python function to read an entire text file.\n"
   ]
  },
  {
   "cell_type": "code",
   "execution_count": null,
   "metadata": {},
   "outputs": [],
   "source": [
    "# 2. Write a Python function to read first n lines of a file\n"
   ]
  },
  {
   "cell_type": "code",
   "execution_count": null,
   "metadata": {},
   "outputs": [],
   "source": [
    "# 3. Write a Python function to append text to a file and display the text.\n"
   ]
  },
  {
   "cell_type": "code",
   "execution_count": null,
   "metadata": {},
   "outputs": [],
   "source": [
    "# 4. Python File I/O: Read a file line by line and store it into a list\n"
   ]
  },
  {
   "cell_type": "code",
   "execution_count": 1,
   "metadata": {},
   "outputs": [
    {
     "name": "stdout",
     "output_type": "stream",
     "text": [
      "Python \n",
      "Python Solutions\n",
      "Python Exercises\n",
      "Python Solutions\n",
      "Python Exercises\n",
      "This will add new line\n"
     ]
    }
   ],
   "source": [
    "# Python code to illustrate read() mode\n",
    "file = open(r\"C:\\Users\\HP\\Python\\MSME\\MSME - Python\\12.1.3 - test.txt\", \"r\")  # specifying full path\n",
    "print (file.read())"
   ]
  },
  {
   "cell_type": "code",
   "execution_count": 2,
   "metadata": {},
   "outputs": [
    {
     "name": "stdout",
     "output_type": "stream",
     "text": [
      "Solutions\n"
     ]
    }
   ],
   "source": [
    "# 5.Write a python function to find the longest words\n",
    "x=open(r\"C:\\Users\\HP\\Python\\MSME\\MSME - Python\\12.1.3 - test.txt\",'r')\n",
    "y=x.read()\n",
    "x.close()\n",
    "z=y.split()\n",
    "s=0\n",
    "for i in z:\n",
    "    d=len(i)\n",
    "    if d>s:\n",
    "        s=d\n",
    "        e=i\n",
    "print(e)"
   ]
  }
 ],
 "metadata": {
  "kernelspec": {
   "display_name": "Python 3",
   "language": "python",
   "name": "python3"
  },
  "language_info": {
   "codemirror_mode": {
    "name": "ipython",
    "version": 3
   },
   "file_extension": ".py",
   "mimetype": "text/x-python",
   "name": "python",
   "nbconvert_exporter": "python",
   "pygments_lexer": "ipython3",
   "version": "3.9.12"
  }
 },
 "nbformat": 4,
 "nbformat_minor": 4
}
