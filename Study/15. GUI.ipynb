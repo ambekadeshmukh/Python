{
 "cells": [
  {
   "cell_type": "markdown",
   "metadata": {},
   "source": [
    "Python provides various options for developing graphical user interfaces (GUIs). Most important are listed below.\n",
    "\n",
    "Tkinter − Tkinter is the Python interface to the Tk GUI toolkit shipped with Python. We would look this option in this chapter.\n",
    "\n",
    "wxPython − This is an open-source Python interface for wxWindows http://wxpython.org.\n",
    "\n",
    "JPython − JPython is a Python port for Java which gives Python scripts seamless access to Java class libraries on the local machine http://www.jython.org.\n",
    "\n",
    "There are many other interfaces available, which you can find them on the net."
   ]
  },
  {
   "cell_type": "markdown",
   "metadata": {},
   "source": [
    "Tk(screenName=None,  baseName=None,  className=’Tk’,  useTk=1): To create a main window, tkinter offers a method ‘Tk(screenName=None,  baseName=None,  className=’Tk’,  useTk=1)’. To change the name of the window, you can change the className to the desired one. The basic code used to create the main window of the application is:"
   ]
  },
  {
   "cell_type": "code",
   "execution_count": null,
   "metadata": {},
   "outputs": [],
   "source": [
    "# !pip install tkinter"
   ]
  },
  {
   "cell_type": "code",
   "execution_count": 1,
   "metadata": {},
   "outputs": [],
   "source": [
    "import tkinter\n",
    "# import tkinter as tk"
   ]
  },
  {
   "cell_type": "code",
   "execution_count": 2,
   "metadata": {},
   "outputs": [],
   "source": [
    "m=tkinter.Tk() #where m is the name of the main window object"
   ]
  },
  {
   "cell_type": "markdown",
   "metadata": {},
   "source": [
    "mainloop(): There is a method known by the name mainloop() is used when you are ready for the application to run. mainloop() is an infinite loop used to run the application, wait for an event to occur and process the event till the window is not closed."
   ]
  },
  {
   "cell_type": "code",
   "execution_count": 3,
   "metadata": {},
   "outputs": [],
   "source": [
    "m.mainloop()"
   ]
  },
  {
   "cell_type": "markdown",
   "metadata": {},
   "source": [
    "Button:To add a button in your application, this widget is used.\n",
    "The general syntax is:"
   ]
  },
  {
   "cell_type": "code",
   "execution_count": null,
   "metadata": {},
   "outputs": [],
   "source": [
    "# w=Button(master, option=value)"
   ]
  },
  {
   "cell_type": "markdown",
   "metadata": {},
   "source": [
    "master is the parameter used to represent the parent window.\n",
    "There are number of options which are used to change the format of the Buttons. Number of options can be passed as parameters separated by commas. Some of them are listed below.\n",
    "\n",
    "activebackground: to set the background color when button is under the cursor.\n",
    "activeforeground: to set the foreground color when button is under the cursor.\n",
    "bg: to set he normal background color.\n",
    "command: to call a function.\n",
    "font: to set the font on the button label.\n",
    "image: to set the image on the button.\n",
    "width: to set the width of the button.\n",
    "height: to set the height of the button."
   ]
  },
  {
   "cell_type": "code",
   "execution_count": 4,
   "metadata": {},
   "outputs": [],
   "source": [
    "import tkinter\n",
    "top = tkinter.Tk()\n",
    "# Code to add widgets will go here...\n",
    "top.mainloop()"
   ]
  },
  {
   "cell_type": "markdown",
   "metadata": {},
   "source": [
    "# Button\n",
    "The Button widget is used to add buttons in a Python application. These buttons can display text that convey the purpose of the buttons. You can attach a function or a method to a button which is called automatically when you click the button\n",
    "\n",
    " - The event is the mouse operation by the user or we can say that the “handler” function is called with an event object. It can handle all the functions related to them.\n",
    "\n"
   ]
  },
  {
   "cell_type": "code",
   "execution_count": null,
   "metadata": {},
   "outputs": [],
   "source": [
    "## Syntax\n",
    "# w = Button ( master, option=value, ... )"
   ]
  },
  {
   "cell_type": "code",
   "execution_count": 6,
   "metadata": {},
   "outputs": [],
   "source": [
    "import tkinter as tk\n",
    "from tkinter import messagebox"
   ]
  },
  {
   "cell_type": "code",
   "execution_count": 7,
   "metadata": {},
   "outputs": [],
   "source": [
    "top = tk.Tk()\n",
    "\n",
    "def helloCallBack():\n",
    "    messagebox.showinfo( \"Hello Python\", \"Hello World\")\n",
    "\n",
    "B = tk.Button(top, text =\"Hello\", command = helloCallBack)\n",
    "\n",
    "B.pack()\n",
    "top.mainloop()"
   ]
  },
  {
   "cell_type": "code",
   "execution_count": 8,
   "metadata": {},
   "outputs": [],
   "source": [
    "import tkinter as tk \n",
    "r = tk.Tk() \n",
    "r.title('Counting Seconds') \n",
    "button = tk.Button(r, text='Stop', width=50, command=r.destroy) \n",
    "button.pack() \n",
    "r.mainloop()"
   ]
  },
  {
   "cell_type": "markdown",
   "metadata": {},
   "source": [
    "# Checkbutton\n",
    "\n",
    "The Checkbutton widget is used to display a number of options to a user as toggle buttons. The user can then select one or more options by clicking the button corresponding to each option.\n",
    "\n",
    "w = Checkbutton ( master, option, ... )"
   ]
  },
  {
   "cell_type": "code",
   "execution_count": 9,
   "metadata": {},
   "outputs": [],
   "source": [
    "top = tk.Tk()\n",
    "\n",
    "C1 = tk.Checkbutton(top, text = \"Music\", \\\n",
    "                 onvalue = 1, offvalue = 0, height=5, \\\n",
    "                 width = 20)\n",
    "C2 = tk.Checkbutton(top, text = \"Video\", \\\n",
    "                 onvalue = 1, offvalue = 0, height=5, \\\n",
    "                 width = 20)\n",
    "C1.pack()\n",
    "C2.pack()\n",
    "top.mainloop()"
   ]
  },
  {
   "cell_type": "markdown",
   "metadata": {},
   "source": [
    "# Entry\n",
    "\n",
    "The Entry widget is used to accept single-line text strings from a user.\n",
    "\n",
    "If you want to display multiple lines of text that can be edited, then you should use the Text widget.\n",
    "\n",
    "If you want to display one or more lines of text that cannot be modified by the user, then you should use the Label widget.\n",
    "\n",
    "w = Entry( master, option, ... )"
   ]
  },
  {
   "cell_type": "code",
   "execution_count": 10,
   "metadata": {},
   "outputs": [],
   "source": [
    "from tkinter import Label, Entry\n",
    "top = tk.Tk()\n",
    "L1 = Label(top, text=\"User Name\")\n",
    "L1.pack( )\n",
    "E1 = Entry(top, bd =5)\n",
    "E1.pack()\n",
    "\n",
    "top.mainloop()"
   ]
  },
  {
   "cell_type": "markdown",
   "metadata": {},
   "source": [
    "# Spinbox\n",
    "\n",
    "The Spinbox widget is a variant of the standard Tkinter Entry widget, which can be used to select from a fixed number of values.\n",
    "\n",
    "Syntax\n",
    "Here is the simple syntax to create this widget −\n",
    "\n",
    "w = Spinbox( master, option, ... )"
   ]
  },
  {
   "cell_type": "code",
   "execution_count": 11,
   "metadata": {},
   "outputs": [],
   "source": [
    "from tkinter import *\n",
    "master = Tk()\n",
    "\n",
    "w = Spinbox(master, from_=0, to=100)\n",
    "w.pack()\n",
    "\n",
    "mainloop()"
   ]
  },
  {
   "cell_type": "markdown",
   "metadata": {},
   "source": [
    "# Listbox\n",
    "\n",
    "The Listbox widget is used to display a list of items from which a user can select a number of items.\n",
    "\n",
    "Syntax\n",
    "Here is the simple syntax to create this widget −\n",
    "\n",
    "w = Listbox ( master, option, ... )"
   ]
  },
  {
   "cell_type": "code",
   "execution_count": 12,
   "metadata": {},
   "outputs": [],
   "source": [
    "top = Tk()\n",
    "\n",
    "Lb1 = Listbox(top)\n",
    "Lb1.insert(1, \"Python\")\n",
    "Lb1.insert(2, \"Perl\")\n",
    "Lb1.insert(3, \"C\")\n",
    "Lb1.insert(4, \"PHP\")\n",
    "Lb1.insert(5, \"JSP\")\n",
    "Lb1.insert(6, \"Ruby\")\n",
    "\n",
    "Lb1.pack()\n",
    "top.mainloop()"
   ]
  },
  {
   "attachments": {
    "image.png": {
     "image/png": "[encoded data removed]"
    }
   },
   "cell_type": "markdown",
   "metadata": {},
   "source": [
    "![image.png](attachment:image.png)"
   ]
  },
  {
   "cell_type": "code",
   "execution_count": 13,
   "metadata": {},
   "outputs": [],
   "source": [
    "from tkinter import *\n",
    "class MyWindow:\n",
    "    def __init__(self, win):\n",
    "        self.lbl1=Label(win, text='First number')\n",
    "        self.lbl2=Label(win, text='Second number')\n",
    "        self.lbl3=Label(win, text='Result')\n",
    "        self.t1=Entry(bd=3)\n",
    "        self.t2=Entry()\n",
    "        self.t3=Entry()\n",
    "        self.btn1 = Button(win, text='Add')\n",
    "        self.btn2=Button(win, text='Subtract')\n",
    "        self.lbl1.place(x=100, y=50)\n",
    "        self.t1.place(x=200, y=50)\n",
    "        self.lbl2.place(x=100, y=100)\n",
    "        self.t2.place(x=200, y=100)\n",
    "        self.b1=Button(win, text='Add', command=self.add)\n",
    "        self.b2=Button(win, text='Subtract')\n",
    "        self.b2.bind('<Button-1>', self.sub)\n",
    "        self.b1.place(x=100, y=150)\n",
    "        self.b2.place(x=200, y=150)\n",
    "        self.lbl3.place(x=100, y=200)\n",
    "        self.t3.place(x=200, y=200)\n",
    "    def add(self):\n",
    "        self.t3.delete(0, 'end')\n",
    "        num1=int(self.t1.get())\n",
    "        num2=int(self.t2.get())\n",
    "        result=num1+num2\n",
    "        self.t3.insert(END, str(result))\n",
    "    def sub(self, event):\n",
    "        self.t3.delete(0, 'end')\n",
    "        num1=int(self.t1.get())\n",
    "        num2=int(self.t2.get())\n",
    "        result=num1-num2\n",
    "        self.t3.insert(END, str(result))\n",
    "\n",
    "window=Tk()\n",
    "mywin=MyWindow(window)\n",
    "window.title('Hello Python')\n",
    "window.geometry(\"400x300+10+10\")\n",
    "window.mainloop()"
   ]
  },
  {
   "cell_type": "markdown",
   "metadata": {},
   "source": [
    "# [Reference Material](https://www.tutorialsteacher.com/python/create-gui-using-tkinter-python)"
   ]
  }
 ],
 "metadata": {
  "kernelspec": {
   "display_name": "Python 3",
   "language": "python",
   "name": "python3"
  },
  "language_info": {
   "codemirror_mode": {
    "name": "ipython",
    "version": 3
   },
   "file_extension": ".py",
   "mimetype": "text/x-python",
   "name": "python",
   "nbconvert_exporter": "python",
   "pygments_lexer": "ipython3",
   "version": "3.9.12"
  }
 },
 "nbformat": 4,
 "nbformat_minor": 2
}
