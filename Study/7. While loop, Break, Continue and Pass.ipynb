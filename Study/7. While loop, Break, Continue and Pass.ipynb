{
 "cells": [
  {
   "cell_type": "code",
   "execution_count": null,
   "metadata": {},
   "outputs": [],
   "source": [
    "# while condition:\n",
    "#     Body of loop\n",
    "\n",
    "# As long as the condition remains True, the loop will be executed\n",
    "# Once the condition becomes False, it will exit the loop\n",
    "\n",
    "a = 0\n",
    "while a < 2:\n",
    "    print(a)\n",
    "    a = a + 1"
   ]
  },
  {
   "cell_type": "code",
   "execution_count": null,
   "metadata": {},
   "outputs": [],
   "source": [
    "a = 0\n",
    "while a < 2:\n",
    "    print(a)\n",
    "    a = a + 1\n",
    "else: # Optional\n",
    "    print('While loop execution is stopped as the condition became false')"
   ]
  },
  {
   "cell_type": "code",
   "execution_count": null,
   "metadata": {},
   "outputs": [],
   "source": [
    "a = 1\n",
    "while a < 20:\n",
    "    print(a)\n",
    "    a = a * 2\n",
    "else: # Optional\n",
    "    print('While loop execution is stopped as the condition became false')"
   ]
  },
  {
   "cell_type": "code",
   "execution_count": null,
   "metadata": {},
   "outputs": [],
   "source": [
    "a = 0\n",
    "while a < 2:\n",
    "    print(a)\n",
    "    a = a + 1\n",
    "    if a == 2:\n",
    "        print('A is 2')\n",
    "        break # Once it encounter the break statement it will exit the loop\n",
    "              # Execution will be terminated\n",
    "    else:\n",
    "        print('Continuing...')"
   ]
  },
  {
   "cell_type": "code",
   "execution_count": null,
   "metadata": {},
   "outputs": [],
   "source": [
    "for i in range(10): # [0,1,2,3,4,5,6,7,8,9]\n",
    "    print(i * i) # 0 * 0\n",
    "    break # Exit the loop"
   ]
  },
  {
   "cell_type": "code",
   "execution_count": null,
   "metadata": {},
   "outputs": [],
   "source": [
    "for i in range(10): # [0,1,2,3,4,5,6,7,8,9]\n",
    "    break\n",
    "    print(i * i)"
   ]
  },
  {
   "cell_type": "code",
   "execution_count": null,
   "metadata": {},
   "outputs": [],
   "source": [
    "for i in range(10): # [0,1,2,3,4,5,6,7,8,9]\n",
    "    print(i * i)\n",
    "    if i == 5:\n",
    "        print('I is 5')\n",
    "        break"
   ]
  },
  {
   "cell_type": "code",
   "execution_count": null,
   "metadata": {},
   "outputs": [],
   "source": [
    "for i in 'hello':\n",
    "    if i == 'h': # h == h\n",
    "        print(i)\n",
    "        continue # Skips the current iteration and moves to the next iteration\n",
    "    print('current char', i)"
   ]
  },
  {
   "cell_type": "code",
   "execution_count": null,
   "metadata": {},
   "outputs": [],
   "source": [
    "a = 10\n",
    "if a % 2 == 0:\n",
    "#     print('Even')"
   ]
  },
  {
   "cell_type": "code",
   "execution_count": null,
   "metadata": {},
   "outputs": [],
   "source": [
    "count = 0\n",
    "for i in range(10):# [0,1,2,3,4,5,6,7,8,9]\n",
    "    if i < 3:\n",
    "        pass # Skipping statement, it does nothing at all\n",
    "    else:\n",
    "        count += i # count = count + i\n",
    "count"
   ]
  },
  {
   "cell_type": "code",
   "execution_count": null,
   "metadata": {
    "scrolled": true
   },
   "outputs": [],
   "source": [
    "# This goes into an infinite loop\n",
    "\n",
    "# while True:\n",
    "#     print('Yes')\n",
    "\n",
    "# a = 1\n",
    "# while a > 0:\n",
    "#     print(a)\n",
    "#     a = a + 1"
   ]
  }
 ],
 "metadata": {
  "kernelspec": {
   "display_name": "Python 3",
   "language": "python",
   "name": "python3"
  },
  "language_info": {
   "codemirror_mode": {
    "name": "ipython",
    "version": 3
   },
   "file_extension": ".py",
   "mimetype": "text/x-python",
   "name": "python",
   "nbconvert_exporter": "python",
   "pygments_lexer": "ipython3",
   "version": "3.9.12"
  }
 },
 "nbformat": 4,
 "nbformat_minor": 4
}
