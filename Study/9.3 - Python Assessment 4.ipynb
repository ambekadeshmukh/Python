{
 "cells": [
  {
   "cell_type": "code",
   "execution_count": null,
   "metadata": {},
   "outputs": [],
   "source": [
    "# What is the difference between local and global variable?\n"
   ]
  },
  {
   "cell_type": "code",
   "execution_count": null,
   "metadata": {},
   "outputs": [],
   "source": [
    "# What is the scope of a variable (in function)?\n"
   ]
  },
  {
   "cell_type": "code",
   "execution_count": null,
   "metadata": {},
   "outputs": [],
   "source": [
    "# What is the difference between a parameter and an argument?\n"
   ]
  },
  {
   "cell_type": "code",
   "execution_count": null,
   "metadata": {},
   "outputs": [],
   "source": [
    "# What does function returns by default in Python?\n"
   ]
  },
  {
   "cell_type": "code",
   "execution_count": null,
   "metadata": {},
   "outputs": [],
   "source": [
    "# Define a function which counts vowels and consonant in a word\n",
    "\n",
    "# Hint\n",
    "# Input:\n",
    "# Enter a word = pythonlobby\n",
    "\n",
    "# Expected output \n",
    "# Count of vowel is = 2\n",
    "# Count of consonant is = 9"
   ]
  },
  {
   "cell_type": "code",
   "execution_count": null,
   "metadata": {},
   "outputs": [],
   "source": [
    "# Define a function that returns Factorial of a number\n",
    "\n",
    "# Hint\n",
    "# Input:\n",
    "# Enter a number = 6\n",
    "\n",
    "# Expected output \n",
    "# Factorial is 720"
   ]
  },
  {
   "cell_type": "code",
   "execution_count": null,
   "metadata": {},
   "outputs": [],
   "source": [
    "# Write a Python program to reverse a number.\n",
    "# Hint\n",
    "# Input a number to reverse : 43521\n",
    "\n",
    "# Expected output \n",
    "# Result: 12534"
   ]
  },
  {
   "cell_type": "code",
   "execution_count": null,
   "metadata": {},
   "outputs": [],
   "source": [
    "# Write a program to display the first 7 multiples of 7 in a range of value from\n",
    "# 0 to 200\n",
    "# Hint\n",
    "# Use if and for loop with break\n",
    "\n",
    "# Expected output \n",
    "# Result: 0  7  14  21  28  35  42  49"
   ]
  },
  {
   "cell_type": "code",
   "execution_count": null,
   "metadata": {},
   "outputs": [],
   "source": [
    "# Write a python program to separate positive and negative number from a list.\n",
    "# Hint \n",
    "# Given x = [23, 4, -6, 23, -9, 21, 3, -45, -8]\n",
    "\n",
    "# Expected output \n",
    "# Result:\n",
    "# Positive: [23, 4, 23, 21, 3] Negative: [-6, -45, -9, -8]"
   ]
  },
  {
   "cell_type": "code",
   "execution_count": null,
   "metadata": {},
   "outputs": [],
   "source": [
    "# Write a program that appends the type of elements from a list.\n",
    "# Hint\n",
    "# Given x = [23, ‘Python’, 23.98]\n",
    "\n",
    "# Expected output \n",
    "# Result:\n",
    "# [<class ‘int’>,<class ‘str’>,<class ‘float’>]"
   ]
  },
  {
   "cell_type": "code",
   "execution_count": null,
   "metadata": {},
   "outputs": [],
   "source": [
    "# Write a program to fetch only even values from a dictionary.\n",
    "# Hint\n",
    "# dic = {‘val1’:10, ‘val2’:20, ‘val3’:23, ‘val4’:22 }\n",
    "\n",
    "# Expected output \n",
    "# Result : 10 20 22"
   ]
  }
 ],
 "metadata": {
  "kernelspec": {
   "display_name": "Python 3",
   "language": "python",
   "name": "python3"
  },
  "language_info": {
   "codemirror_mode": {
    "name": "ipython",
    "version": 3
   },
   "file_extension": ".py",
   "mimetype": "text/x-python",
   "name": "python",
   "nbconvert_exporter": "python",
   "pygments_lexer": "ipython3",
   "version": "3.9.12"
  }
 },
 "nbformat": 4,
 "nbformat_minor": 4
}
