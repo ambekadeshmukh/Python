{
 "cells": [
  {
   "cell_type": "markdown",
   "metadata": {},
   "source": [
    "# Object Oriented Programming\n",
    "## Homework Assignment\n",
    "\n",
    "#### Problem 1\n",
    "   * Create a Cricle class and intialize it with radius\n",
    "   * Create two functions getArea and getCircumference inside this class"
   ]
  },
  {
   "cell_type": "code",
   "execution_count": 1,
   "metadata": {},
   "outputs": [],
   "source": [
    "class Circle:\n",
    "    def __init__(self,radius):\n",
    "        pass\n",
    "    def getarea(self):\n",
    "        pass\n",
    "    def get_circumference(self):\n",
    "        pass"
   ]
  },
  {
   "cell_type": "markdown",
   "metadata": {},
   "source": [
    "#### Problem 2\n",
    "\n",
    "Create a Temprature class. Make two methods :\n",
    "1. convertFahrenheit - It will take celsius and will print it into Fahrenheit.\n",
    "2. convertCelsius - It will take Fahrenheit and will convert it into Celsius."
   ]
  },
  {
   "cell_type": "code",
   "execution_count": null,
   "metadata": {},
   "outputs": [],
   "source": [
    "class Temp:\n",
    "    def c_to_f(self,celcius):\n",
    "        pass\n",
    "    def f_to_c(self, farenheit):\n",
    "        pass"
   ]
  },
  {
   "cell_type": "markdown",
   "metadata": {},
   "source": [
    "#### Problem 3\n",
    "\n",
    " * Create a class students\n",
    " * Initialize student name, roll num, age, phy, math\n",
    " * Create function to add phy and math marks\n",
    " * Create function to check %"
   ]
  },
  {
   "cell_type": "code",
   "execution_count": null,
   "metadata": {},
   "outputs": [],
   "source": [
    "class Student:\n",
    "    def __init__(self,name, roll_num, age, phy, math):\n",
    "        pass\n",
    "    def add(self):\n",
    "        pass\n",
    "    def prcentage(self):\n",
    "        pass"
   ]
  },
  {
   "cell_type": "code",
   "execution_count": null,
   "metadata": {},
   "outputs": [],
   "source": [
    "# EXAMPLE OUTPUT\n",
    "\n",
    "student1 = Student('Sree',12345,15,89,92)\n",
    "student2 = Student('Sri',123456,15,96,100)\n"
   ]
  },
  {
   "cell_type": "code",
   "execution_count": null,
   "metadata": {},
   "outputs": [],
   "source": [
    "student2.prcentage()"
   ]
  },
  {
   "cell_type": "code",
   "execution_count": null,
   "metadata": {},
   "outputs": [],
   "source": [
    "li.slope()"
   ]
  },
  {
   "cell_type": "markdown",
   "metadata": {},
   "source": [
    "________\n",
    "#### Problem 4\n",
    "\n",
    " * Create a class Arithmetic Operation\n",
    " * Create a class object attribute pi = 3.14\n",
    " * Initialize a,b\n",
    " * Create function to calculate area of circle, volume of sphere, add, sub, mul, div, floor divison on a,b"
   ]
  },
  {
   "cell_type": "code",
   "execution_count": null,
   "metadata": {},
   "outputs": [],
   "source": [
    "class Arithmetic:\n",
    "    pi = 3.14\n",
    "    # Circle gets instantiated with a radius (default is 1)\n",
    "    def __init__(self, a,b, radius=1):\n",
    "        pass\n",
    "    def area(self):\n",
    "        pass\n",
    "#         self.pi = 3.14\n",
    "    def volume_of_sphere(self):\n",
    "        pass\n",
    "    # Method for getting Circumference\n",
    "    def getCircumference(self):\n",
    "        pass\n",
    "    \n",
    "    def add(self):\n",
    "        pass\n",
    "    def sub(self):\n",
    "        pass\n",
    "    def mul(a,b):\n",
    "        pass\n",
    "\n",
    "c = Arithmetic(10, 10, 20)\n",
    "c.add()"
   ]
  },
  {
   "cell_type": "code",
   "execution_count": null,
   "metadata": {},
   "outputs": [],
   "source": [
    "# EXAMPLE OUTPUT\n",
    "c.setRadius(2)\n",
    "\n",
    "print('Radius is: ',c.radius)\n",
    "print('Area is: ',c.area)\n",
    "print('Circumference is: ',c.getCircumference())"
   ]
  }
 ],
 "metadata": {
  "kernelspec": {
   "display_name": "Python 3",
   "language": "python",
   "name": "python3"
  },
  "language_info": {
   "codemirror_mode": {
    "name": "ipython",
    "version": 3
   },
   "file_extension": ".py",
   "mimetype": "text/x-python",
   "name": "python",
   "nbconvert_exporter": "python",
   "pygments_lexer": "ipython3",
   "version": "3.9.12"
  }
 },
 "nbformat": 4,
 "nbformat_minor": 1
}
