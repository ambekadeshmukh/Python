{
 "cells": [
  {
   "cell_type": "code",
   "execution_count": null,
   "metadata": {},
   "outputs": [],
   "source": [
    "# 1. Write a Python function to read an entire text file.\n",
    "\n",
    "def file_read(fname):\n",
    "        txt = open(fname)\n",
    "        print(txt.read())\n",
    "\n",
    "file_read('test.txt')"
   ]
  },
  {
   "cell_type": "code",
   "execution_count": null,
   "metadata": {},
   "outputs": [],
   "source": [
    "# 2. Write a Python function to read first n lines of a file\n",
    "\n",
    "def file_read_from_head(fname, nlines):\n",
    "    txt = open(fname)\n",
    "    for i in range(nlines):\n",
    "        line = txt.readline()\n",
    "        print(line)\n",
    "file_read_from_head('test.txt',2)"
   ]
  },
  {
   "cell_type": "code",
   "execution_count": null,
   "metadata": {},
   "outputs": [],
   "source": [
    "# 3. Write a Python function to append text to a file and display the text.\n",
    "\n",
    "def file_read(fname):\n",
    "    with open(fname, \"a\") as myfile:\n",
    "        myfile.write(\"\\nPython Exercises\\n\")\n",
    "        myfile.write(\"Python Solutions\")\n",
    "    txt = open(fname)\n",
    "    print(txt.read())\n",
    "file_read('test.txt')"
   ]
  },
  {
   "cell_type": "code",
   "execution_count": null,
   "metadata": {},
   "outputs": [],
   "source": [
    "# 4. Python File I/O: Read a file line by line and store it into a list\n",
    "\n",
    "def file_read(fname):\n",
    "    with open(fname) as f:\n",
    "        #Content_list is the list that contains the read lines.     \n",
    "        content_list = f.readlines()\n",
    "        print(content_list)\n",
    "\n",
    "file_read('test.txt')"
   ]
  },
  {
   "cell_type": "code",
   "execution_count": 1,
   "metadata": {},
   "outputs": [
    {
     "name": "stdout",
     "output_type": "stream",
     "text": [
      "['Exercisesisveryeasytocomplete']\n"
     ]
    }
   ],
   "source": [
    "# 5.Write a python function to find the longest words\n",
    "\n",
    "def longest_word(filename):\n",
    "    with open(filename, 'r') as infile:\n",
    "        words = infile.read().split()\n",
    "    max_len = len(max(words, key=len))\n",
    "    return [word for word in words if len(word) == max_len]\n",
    "\n",
    "print(longest_word('test.txt'))"
   ]
  },
  {
   "cell_type": "code",
   "execution_count": null,
   "metadata": {},
   "outputs": [],
   "source": [
    "# 5.Write a python function to find the longest words\n",
    "x=open(r\"C:\\Users\\HP\\Python\\MSME\\MSME - Python\\12.1.3 - test.txt\",'r')\n",
    "y=x.read()\n",
    "x.close()\n",
    "z=y.split()\n",
    "s=0\n",
    "for i in z:\n",
    "    d=len(i)\n",
    "    if d>s:\n",
    "        s=d\n",
    "        e=i\n",
    "print(e)"
   ]
  }
 ],
 "metadata": {
  "kernelspec": {
   "display_name": "Python 3",
   "language": "python",
   "name": "python3"
  },
  "language_info": {
   "codemirror_mode": {
    "name": "ipython",
    "version": 3
   },
   "file_extension": ".py",
   "mimetype": "text/x-python",
   "name": "python",
   "nbconvert_exporter": "python",
   "pygments_lexer": "ipython3",
   "version": "3.9.12"
  }
 },
 "nbformat": 4,
 "nbformat_minor": 4
}
