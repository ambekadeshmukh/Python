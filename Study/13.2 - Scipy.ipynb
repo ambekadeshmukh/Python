{
 "cells": [
  {
   "cell_type": "markdown",
   "metadata": {},
   "source": [
    "# Special Functions\n",
    "\n",
    "- scipy.special package contains numerous functions of mathematical physics\n",
    "- SciPy special function includes Cubic Root, Exponential, Log sum Exponential, Lambert, Permutation and Combinations, Gamma, Bessel, hypergeometric, Kelvin, beta, parabolic cylinder, Relative Error Exponential, etc..\n",
    "\n",
    "### Cubic Root Function:\n",
    "Cubic Root function finds the cube root of values\n",
    "\n",
    "#### Syntax:\n",
    "\n",
    "scipy.special.cbrt(x)"
   ]
  },
  {
   "cell_type": "code",
   "execution_count": 2,
   "metadata": {},
   "outputs": [
    {
     "data": {
      "text/plain": [
       "1.2599210498948732"
      ]
     },
     "execution_count": 2,
     "metadata": {},
     "output_type": "execute_result"
    }
   ],
   "source": [
    "from scipy.special import cbrt\n",
    "cbrt(2)"
   ]
  },
  {
   "cell_type": "code",
   "execution_count": 3,
   "metadata": {},
   "outputs": [
    {
     "name": "stdout",
     "output_type": "stream",
     "text": [
      "[3. 4.]\n"
     ]
    }
   ],
   "source": [
    "from scipy.special import cbrt\n",
    "#Find cubic root of 27 & 64 using cbrt() function\n",
    "cb = cbrt([27, 64])\n",
    "#print value of cb\n",
    "print(cb)"
   ]
  },
  {
   "cell_type": "markdown",
   "metadata": {},
   "source": [
    "### Exponential Function:\n",
    "Exponential function computes the 10**x element-wise"
   ]
  },
  {
   "cell_type": "code",
   "execution_count": 4,
   "metadata": {},
   "outputs": [
    {
     "name": "stdout",
     "output_type": "stream",
     "text": [
      "[1.e+01 1.e+10]\n"
     ]
    }
   ],
   "source": [
    "from scipy.special import exp10\n",
    "#define exp10 function and pass value in its\n",
    "exp = exp10([1,10])\n",
    "print(exp)"
   ]
  },
  {
   "cell_type": "markdown",
   "metadata": {},
   "source": [
    "### Permutations & Combinations:\n",
    "- SciPy also gives functionality to calculate Permutations and Combinations\n",
    "\n",
    "Combinations - scipy.special.comb(N,k)"
   ]
  },
  {
   "cell_type": "code",
   "execution_count": 7,
   "metadata": {},
   "outputs": [
    {
     "name": "stdout",
     "output_type": "stream",
     "text": [
      "15.0\n"
     ]
    }
   ],
   "source": [
    "from scipy.special import comb\n",
    "#find combinations of 5, 2 values using comb(N, k)\n",
    "com = comb(5, 2, exact = False, repetition=True)\n",
    "print(com)"
   ]
  },
  {
   "cell_type": "markdown",
   "metadata": {},
   "source": [
    "### Permutations\n",
    "\n",
    "scipy.special.perm(N,k)"
   ]
  },
  {
   "cell_type": "code",
   "execution_count": 8,
   "metadata": {},
   "outputs": [
    {
     "name": "stdout",
     "output_type": "stream",
     "text": [
      "20\n"
     ]
    }
   ],
   "source": [
    "from scipy.special import perm\n",
    "#find permutation of 5, 2 using perm (N, k) function\n",
    "per = perm(5, 2, exact = True)\n",
    "print(per)"
   ]
  },
  {
   "cell_type": "markdown",
   "metadata": {},
   "source": [
    "# Linear Algebra with SciPy\n",
    "\n",
    "- Linear algebra routine accepts two-dimensional array object and output is also a two-dimensional array\n",
    "- Now let's do some test with scipy.linalg,\n",
    "- Calculating determinant of a two-dimensional matrix,\n",
    "# Finding the Determinants:\n",
    "The value derived arithmetically from the coefficients of the matrix is known as the determinant of a square matrix\n",
    "\n",
    "# [RESOURCE](https://www.mathsisfun.com/algebra/matrix-determinant.html)"
   ]
  },
  {
   "cell_type": "code",
   "execution_count": 7,
   "metadata": {},
   "outputs": [
    {
     "data": {
      "text/plain": [
       "-14.0"
      ]
     },
     "execution_count": 7,
     "metadata": {},
     "output_type": "execute_result"
    }
   ],
   "source": [
    "from scipy import linalg\n",
    "import numpy as np\n",
    "#define square matrix\n",
    "two_d_array = np.array([[3,8], [4,6] ])\n",
    "#pass values to det() function\n",
    "linalg.det( two_d_array )"
   ]
  },
  {
   "cell_type": "code",
   "execution_count": 9,
   "metadata": {},
   "outputs": [
    {
     "data": {
      "text/plain": [
       "-14"
      ]
     },
     "execution_count": 9,
     "metadata": {},
     "output_type": "execute_result"
    }
   ],
   "source": [
    "18 - 32"
   ]
  },
  {
   "cell_type": "markdown",
   "metadata": {},
   "source": [
    "# Finding the Inverse of a Matrix:\n",
    "- Mathematically, the inverse of a matrix A is the matrix B such that AB=I where I is the identity matrix consisting of ones down the main diagonal denoted as B=A-1\n",
    "- In SciPy, this inverse can be obtained using the linalg.inv method\n",
    "\n",
    "# [RESOURCE](https://www.mathsisfun.com/algebra/matrix-inverse.html)"
   ]
  },
  {
   "cell_type": "code",
   "execution_count": 12,
   "metadata": {},
   "outputs": [
    {
     "data": {
      "text/plain": [
       "array([[-0.28571429,  0.71428571],\n",
       "       [ 0.42857143, -0.57142857]])"
      ]
     },
     "execution_count": 12,
     "metadata": {},
     "output_type": "execute_result"
    }
   ],
   "source": [
    "from scipy import linalg\n",
    "import numpy as np\n",
    "# define square matrix\n",
    "two_d_array = np.array([ [4,5], [3,2] ])\n",
    "#pass value to function inv()\n",
    "linalg.inv( two_d_array )"
   ]
  },
  {
   "cell_type": "markdown",
   "metadata": {},
   "source": [
    "# Eigenvalues and Eigenvector – scipy.linalg.eig()\n",
    "\n",
    "- The most common problem in linear algebra is eigenvalues and eigenvector which can be easily solved using eig() function\n",
    "- Now lets we find the Eigenvalue of (X) and correspond eigenvector of a two-dimensional square matrix\n",
    "\n",
    "# [RESOURCE](https://www.mathsisfun.com/algebra/eigenvalue.html#:~:text=One%20of%20the%20cool%20things,the%20scale%20of%20the%20stretch%3A&text=%E2%88%921%20means%20pointing%20backwards%20along%20the%20eigenvalue's%20direction)"
   ]
  },
  {
   "cell_type": "code",
   "execution_count": 13,
   "metadata": {},
   "outputs": [
    {
     "data": {
      "text/plain": [
       "(1, 2)"
      ]
     },
     "execution_count": 13,
     "metadata": {},
     "output_type": "execute_result"
    }
   ],
   "source": [
    "a,b = 1,2\n",
    "a,b"
   ]
  },
  {
   "cell_type": "code",
   "execution_count": 9,
   "metadata": {},
   "outputs": [
    {
     "name": "stdout",
     "output_type": "stream",
     "text": [
      "eigenvalues [ 9.+0.j -1.+0.j]\n",
      "eigenvectors [[ 0.70710678 -0.5547002 ]\n",
      " [ 0.70710678  0.83205029]]\n"
     ]
    }
   ],
   "source": [
    "# from scipy import linalg\n",
    "# import numpy as np\n",
    "#define two dimensional array\n",
    "arr = np.array([[5,4],[6,3]])\n",
    "#pass value into function\n",
    "eg_val, eg_vect = linalg.eig(arr)\n",
    "#get eigenvalues\n",
    "print('eigenvalues', eg_val)\n",
    "#get eigenvectors\n",
    "print('eigenvectors', eg_vect)"
   ]
  }
 ],
 "metadata": {
  "kernelspec": {
   "display_name": "Python 3",
   "language": "python",
   "name": "python3"
  },
  "language_info": {
   "codemirror_mode": {
    "name": "ipython",
    "version": 3
   },
   "file_extension": ".py",
   "mimetype": "text/x-python",
   "name": "python",
   "nbconvert_exporter": "python",
   "pygments_lexer": "ipython3",
   "version": "3.7.6"
  }
 },
 "nbformat": 4,
 "nbformat_minor": 4
}
